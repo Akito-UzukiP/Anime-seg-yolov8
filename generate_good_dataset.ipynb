{
 "cells": [
  {
   "cell_type": "code",
   "execution_count": 2,
   "metadata": {},
   "outputs": [
    {
     "name": "stderr",
     "output_type": "stream",
     "text": [
      "d:\\Anaconda\\envs\\CVproj\\lib\\site-packages\\tqdm\\auto.py:21: TqdmWarning: IProgress not found. Please update jupyter and ipywidgets. See https://ipywidgets.readthedocs.io/en/stable/user_install.html\n",
      "  from .autonotebook import tqdm as notebook_tqdm\n",
      "100%|██████████| 336/336 [00:00<?, ?it/s]\n"
     ]
    }
   ],
   "source": [
    "from detects import *\n",
    "from utils import *\n",
    "from PIL import Image\n",
    "import cv2\n",
    "import numpy as np\n",
    "import matplotlib.pyplot as plt\n",
    "import os\n",
    "import shutil\n",
    "from tqdm import tqdm\n",
    "path = r\"E:\\stable-diffusion\\sd-webui-aki-v4.1\\outputs\\txt2img-images2\"\n",
    "save_path = r\"E:\\stable-diffusion\\sd-webui-aki-v4.1\\outputs\\test_fake\"\n",
    "#yolo_model = YOLO('./yolo/person_yolov8m-seg.pt')\n",
    "yolo_model = YOLO('./yolo/last.pt')\n",
    "pics_ = os.listdir(path)\n",
    "pics = []\n",
    "for pic in tqdm(pics_):\n",
    "    if pic.endswith(\".png\"):\n",
    "        pics.append(path + \"\\\\\" + pic)"
   ]
  },
  {
   "cell_type": "code",
   "execution_count": 2,
   "metadata": {},
   "outputs": [
    {
     "name": "stderr",
     "output_type": "stream",
     "text": [
      "\n",
      "image 1/1 E:\\stable-diffusion\\sd-webui-aki-v4.1\\outputs\\txt2img-images2\\00000-582701249-dutch angle,sitting, blush,smile,black_hair,white_hair,footwear,legwear,_1girl,solo,dress,skirt, detailed background, multicolor.png: 640x384 1 person, 54.8ms\n",
      "Speed: 3.0ms preprocess, 54.8ms inference, 19.0ms postprocess per image at shape (1, 3, 640, 640)\n",
      "\n",
      "image 1/1 E:\\stable-diffusion\\sd-webui-aki-v4.1\\outputs\\txt2img-images2\\00001-582701249-dutch angle,sitting, blush,smile,black_hair,red_hair,footwear,legwear,_1girl,solo,dress,skirt, detailed background, multicolored.png: 640x384 1 person, 28.7ms\n",
      "Speed: 0.5ms preprocess, 28.7ms inference, 2.0ms postprocess per image at shape (1, 3, 640, 640)\n",
      "\n",
      "image 1/1 E:\\stable-diffusion\\sd-webui-aki-v4.1\\outputs\\txt2img-images2\\00002-582701249-dutch angle,sitting, blush,smile,black_hair,blue_hair,footwear,legwear,_1girl,solo,dress,skirt, detailed background, multicolore.png: 640x384 1 person, 30.3ms\n",
      "Speed: 1.0ms preprocess, 30.3ms inference, 2.0ms postprocess per image at shape (1, 3, 640, 640)\n",
      "\n"
     ]
    },
    {
     "name": "stdout",
     "output_type": "stream",
     "text": [
      "min_mask_size:130309.0\n",
      "128936.5\n",
      "min_mask_size:149855.0\n",
      "148350.0\n",
      "min_mask_size:139337.0\n",
      "138083.0\n"
     ]
    },
    {
     "name": "stderr",
     "output_type": "stream",
     "text": [
      "image 1/1 E:\\stable-diffusion\\sd-webui-aki-v4.1\\outputs\\txt2img-images2\\00003-582701249-dutch angle,sitting, blush,smile,black_hair,green_hair,footwear,legwear,_1girl,solo,dress,skirt, detailed background, multicolor.png: 640x384 1 person, 27.9ms\n",
      "Speed: 1.0ms preprocess, 27.9ms inference, 6.0ms postprocess per image at shape (1, 3, 640, 640)\n",
      "\n",
      "image 1/1 E:\\stable-diffusion\\sd-webui-aki-v4.1\\outputs\\txt2img-images2\\00004-582701249-dutch angle,sitting, blush,smile,black_hair,brown_hair,footwear,legwear,_1girl,solo,dress,skirt, detailed background, multicolor.png: 640x384 1 person, 88.4ms\n",
      "Speed: 1.5ms preprocess, 88.4ms inference, 9.5ms postprocess per image at shape (1, 3, 640, 640)\n",
      "\n"
     ]
    },
    {
     "name": "stdout",
     "output_type": "stream",
     "text": [
      "min_mask_size:94962.0\n",
      "94000.5\n",
      "min_mask_size:109028.0\n",
      "107684.5\n"
     ]
    },
    {
     "name": "stderr",
     "output_type": "stream",
     "text": [
      "image 1/1 E:\\stable-diffusion\\sd-webui-aki-v4.1\\outputs\\txt2img-images2\\00005-582701249-dutch angle,sitting, blush,smile,black_hair,black_hair,footwear,legwear,_1girl,solo,dress,skirt, detailed background, multicolor.png: 640x384 1 person, 39.6ms\n",
      "Speed: 0.9ms preprocess, 39.6ms inference, 11.0ms postprocess per image at shape (1, 3, 640, 640)\n",
      "\n",
      "image 1/1 E:\\stable-diffusion\\sd-webui-aki-v4.1\\outputs\\txt2img-images2\\00006-582701249-dutch angle,sitting, blush,smile,black_hair,white_hair,footwear,legwear,_1girl,solo,dress,skirt, detailed background, multicolor.png: 640x384 1 person, 36.9ms\n",
      "Speed: 1.1ms preprocess, 36.9ms inference, 7.1ms postprocess per image at shape (1, 3, 640, 640)\n",
      "\n",
      "image 1/1 E:\\stable-diffusion\\sd-webui-aki-v4.1\\outputs\\txt2img-images2\\00007-582701249-dutch angle,sitting, blush,smile,black_hair,red_hair,footwear,legwear,_1girl,solo,dress,skirt, detailed background, multicolored.png: 640x384 1 person, 75.3ms\n",
      "Speed: 1.1ms preprocess, 75.3ms inference, 9.6ms postprocess per image at shape (1, 3, 640, 640)\n"
     ]
    },
    {
     "name": "stdout",
     "output_type": "stream",
     "text": [
      "min_mask_size:123403.0\n",
      "119999.0\n",
      "min_mask_size:104286.0\n",
      "103359.5\n"
     ]
    },
    {
     "name": "stderr",
     "output_type": "stream",
     "text": [
      "\n",
      "image 1/1 E:\\stable-diffusion\\sd-webui-aki-v4.1\\outputs\\txt2img-images2\\00008-582701249-dutch angle,sitting, blush,smile,black_hair,blue_hair,footwear,legwear,_1girl,solo,dress,skirt, detailed background, multicolore.png: 640x384 1 person, 84.4ms\n",
      "Speed: 1.0ms preprocess, 84.4ms inference, 8.7ms postprocess per image at shape (1, 3, 640, 640)\n",
      "\n"
     ]
    },
    {
     "name": "stdout",
     "output_type": "stream",
     "text": [
      "min_mask_size:103632.0\n",
      "100732.0\n",
      "min_mask_size:99808.0\n",
      "98718.0\n"
     ]
    },
    {
     "name": "stderr",
     "output_type": "stream",
     "text": [
      "image 1/1 E:\\stable-diffusion\\sd-webui-aki-v4.1\\outputs\\txt2img-images2\\00009-582701249-dutch angle,sitting, blush,smile,black_hair,green_hair,footwear,legwear,_1girl,solo,dress,skirt, detailed background, multicolor.png: 640x384 1 person, 81.0ms\n",
      "Speed: 0.9ms preprocess, 81.0ms inference, 10.0ms postprocess per image at shape (1, 3, 640, 640)\n",
      "\n",
      "image 1/1 E:\\stable-diffusion\\sd-webui-aki-v4.1\\outputs\\txt2img-images2\\00010-582701249-dutch angle,sitting, blush,smile,black_hair,brown_hair,footwear,legwear,_1girl,solo,dress,skirt, detailed background, multicolor.png: 640x384 1 person, 87.3ms\n",
      "Speed: 1.0ms preprocess, 87.3ms inference, 8.6ms postprocess per image at shape (1, 3, 640, 640)\n",
      "\n"
     ]
    },
    {
     "name": "stdout",
     "output_type": "stream",
     "text": [
      "min_mask_size:113414.0\n",
      "112458.5\n",
      "min_mask_size:97458.0\n",
      "96261.0\n"
     ]
    },
    {
     "name": "stderr",
     "output_type": "stream",
     "text": [
      "image 1/1 E:\\stable-diffusion\\sd-webui-aki-v4.1\\outputs\\txt2img-images2\\00011-1665035756-dutch angle,sitting, blush,smile,black_hair,white_hair,footwear,legwear,_1girl,solo,dress,skirt, road,bent over, leaning forward.png: 640x384 1 person, 86.0ms\n",
      "Speed: 1.0ms preprocess, 86.0ms inference, 6.0ms postprocess per image at shape (1, 3, 640, 640)\n",
      "\n",
      "image 1/1 E:\\stable-diffusion\\sd-webui-aki-v4.1\\outputs\\txt2img-images2\\00012-1515644695-dutch angle,sitting, blush,smile,black_hair,red_hair,footwear,legwear,_1girl,solo,dress,skirt, road,bent over, leaning forward,.png: 640x384 1 person, 87.6ms\n",
      "Speed: 0.5ms preprocess, 87.6ms inference, 10.3ms postprocess per image at shape (1, 3, 640, 640)\n",
      "\n"
     ]
    },
    {
     "name": "stdout",
     "output_type": "stream",
     "text": [
      "min_mask_size:71546.0\n",
      "70829.0\n",
      "min_mask_size:74300.0\n",
      "69334.0\n"
     ]
    },
    {
     "name": "stderr",
     "output_type": "stream",
     "text": [
      "image 1/1 E:\\stable-diffusion\\sd-webui-aki-v4.1\\outputs\\txt2img-images2\\00013-1308881963-dutch angle,sitting, blush,smile,black_hair,blue_hair,footwear,legwear,_1girl,solo,dress,skirt, road,bent over, leaning forward,.png: 640x384 1 person, 88.1ms\n",
      "Speed: 1.0ms preprocess, 88.1ms inference, 8.7ms postprocess per image at shape (1, 3, 640, 640)\n",
      "\n",
      "image 1/1 E:\\stable-diffusion\\sd-webui-aki-v4.1\\outputs\\txt2img-images2\\00014-180757175-dutch angle,sitting, blush,smile,black_hair,green_hair,footwear,legwear,_1girl,solo,dress,skirt, road,bent over, leaning forward.png: 640x384 1 person, 88.8ms\n",
      "Speed: 1.0ms preprocess, 88.8ms inference, 8.2ms postprocess per image at shape (1, 3, 640, 640)\n",
      "\n"
     ]
    },
    {
     "name": "stdout",
     "output_type": "stream",
     "text": [
      "min_mask_size:78733.0\n",
      "77857.5\n",
      "min_mask_size:97250.0\n"
     ]
    },
    {
     "name": "stderr",
     "output_type": "stream",
     "text": [
      "image 1/1 E:\\stable-diffusion\\sd-webui-aki-v4.1\\outputs\\txt2img-images2\\00015-2723898134-dutch angle,sitting, blush,smile,black_hair,brown_hair,footwear,legwear,_1girl,solo,dress,skirt, road,bent over, leaning forward.png: 640x384 1 person, 86.9ms\n",
      "Speed: 1.1ms preprocess, 86.9ms inference, 10.1ms postprocess per image at shape (1, 3, 640, 640)\n",
      "\n",
      "image 1/1 E:\\stable-diffusion\\sd-webui-aki-v4.1\\outputs\\txt2img-images2\\00016-1360092697-dutch angle,sitting, blush,smile,black_hair,black_hair,footwear,legwear,_1girl,solo,dress,skirt, road,bent over, leaning forward.png: 640x384 1 person, 83.0ms\n",
      "Speed: 1.0ms preprocess, 83.0ms inference, 10.4ms postprocess per image at shape (1, 3, 640, 640)\n",
      "\n"
     ]
    },
    {
     "name": "stdout",
     "output_type": "stream",
     "text": [
      "min_mask_size:73347.0\n",
      "72404.5\n",
      "min_mask_size:111329.0\n",
      "118100.5\n"
     ]
    },
    {
     "name": "stderr",
     "output_type": "stream",
     "text": [
      "image 1/1 E:\\stable-diffusion\\sd-webui-aki-v4.1\\outputs\\txt2img-images2\\00017-288207470-dutch angle,sitting, blush,smile,black_hair,white_hair,footwear,legwear,_1girl,solo,dress,skirt, road,bent over, leaning forward.png: 640x384 1 person, 84.7ms\n",
      "Speed: 0.9ms preprocess, 84.7ms inference, 9.5ms postprocess per image at shape (1, 3, 640, 640)\n",
      "\n",
      "image 1/1 E:\\stable-diffusion\\sd-webui-aki-v4.1\\outputs\\txt2img-images2\\00018-1579645666-dutch angle,sitting, blush,smile,black_hair,red_hair,footwear,legwear,_1girl,solo,dress,skirt, road,bent over, leaning forward,.png: 640x384 1 person, 81.3ms\n",
      "Speed: 2.0ms preprocess, 81.3ms inference, 10.2ms postprocess per image at shape (1, 3, 640, 640)\n",
      "\n"
     ]
    },
    {
     "name": "stdout",
     "output_type": "stream",
     "text": [
      "min_mask_size:81899.0\n",
      "80703.5\n",
      "min_mask_size:98015.0\n",
      "97727.0\n"
     ]
    },
    {
     "name": "stderr",
     "output_type": "stream",
     "text": [
      "image 1/1 E:\\stable-diffusion\\sd-webui-aki-v4.1\\outputs\\txt2img-images2\\00019-2066835228-dutch angle,sitting, blush,smile,black_hair,blue_hair,footwear,legwear,_1girl,solo,dress,skirt, road,bent over, leaning forward,.png: 640x384 1 person, 84.7ms\n",
      "Speed: 1.0ms preprocess, 84.7ms inference, 9.2ms postprocess per image at shape (1, 3, 640, 640)\n",
      "\n",
      "image 1/1 E:\\stable-diffusion\\sd-webui-aki-v4.1\\outputs\\txt2img-images2\\00020-3969790882-dutch angle,sitting, blush,smile,black_hair,green_hair,footwear,legwear,_1girl,solo,dress,skirt, road,bent over, leaning forward.png: 640x384 1 person, 84.3ms\n",
      "Speed: 1.6ms preprocess, 84.3ms inference, 9.0ms postprocess per image at shape (1, 3, 640, 640)\n",
      "\n"
     ]
    },
    {
     "name": "stdout",
     "output_type": "stream",
     "text": [
      "min_mask_size:106727.0\n",
      "118688.5\n",
      "min_mask_size:70165.0\n",
      "69559.5\n"
     ]
    },
    {
     "name": "stderr",
     "output_type": "stream",
     "text": [
      "image 1/1 E:\\stable-diffusion\\sd-webui-aki-v4.1\\outputs\\txt2img-images2\\00021-3118203590-dutch angle,sitting, blush,smile,black_hair,brown_hair,footwear,legwear,_1girl,solo,dress,skirt, road,bent over, leaning forward.png: 640x384 1 person, 86.6ms\n",
      "Speed: 1.0ms preprocess, 86.6ms inference, 10.0ms postprocess per image at shape (1, 3, 640, 640)\n",
      "\n",
      "image 1/1 E:\\stable-diffusion\\sd-webui-aki-v4.1\\outputs\\txt2img-images2\\00022-907659060-dutch angle,sitting, blush,smile,black_hair,black_hair,footwear,legwear,_1girl,solo,dress,skirt, road,bent over, leaning forward.png: 640x384 1 person, 82.2ms\n",
      "Speed: 1.0ms preprocess, 82.2ms inference, 8.6ms postprocess per image at shape (1, 3, 640, 640)\n",
      "\n"
     ]
    },
    {
     "name": "stdout",
     "output_type": "stream",
     "text": [
      "min_mask_size:69902.0\n",
      "71629.0\n",
      "min_mask_size:92309.0\n",
      "91364.5\n"
     ]
    },
    {
     "name": "stderr",
     "output_type": "stream",
     "text": [
      "image 1/1 E:\\stable-diffusion\\sd-webui-aki-v4.1\\outputs\\txt2img-images2\\00023-1023253796-dutch angle,sitting, blush,smile,black_hair,white_hair,footwear,legwear,_1girl,solo,dress,skirt, road,bent over, leaning forward.png: 640x384 1 person, 83.5ms\n",
      "Speed: 1.1ms preprocess, 83.5ms inference, 8.0ms postprocess per image at shape (1, 3, 640, 640)\n",
      "\n",
      "image 1/1 E:\\stable-diffusion\\sd-webui-aki-v4.1\\outputs\\txt2img-images2\\00024-3238667682-dutch angle,sitting, blush,smile,black_hair,red_hair,footwear,legwear,_1girl,solo,dress,skirt, road,bent over, leaning forward,.png: 640x384 1 person, 81.3ms\n",
      "Speed: 1.1ms preprocess, 81.3ms inference, 9.9ms postprocess per image at shape (1, 3, 640, 640)\n",
      "\n"
     ]
    },
    {
     "name": "stdout",
     "output_type": "stream",
     "text": [
      "min_mask_size:87986.0\n",
      "86641.5\n",
      "min_mask_size:78830.0\n",
      "78079.0\n"
     ]
    },
    {
     "name": "stderr",
     "output_type": "stream",
     "text": [
      "image 1/1 E:\\stable-diffusion\\sd-webui-aki-v4.1\\outputs\\txt2img-images2\\00025-3728397038-dutch angle,sitting, blush,smile,black_hair,blue_hair,footwear,legwear,_1girl,solo,dress,skirt, road,bent over, leaning forward,.png: 640x384 1 person, 81.3ms\n",
      "Speed: 1.1ms preprocess, 81.3ms inference, 11.1ms postprocess per image at shape (1, 3, 640, 640)\n",
      "\n",
      "image 1/1 E:\\stable-diffusion\\sd-webui-aki-v4.1\\outputs\\txt2img-images2\\00026-2067739773-dutch angle,sitting, blush,smile,black_hair,green_hair,footwear,legwear,_1girl,solo,dress,skirt, road,bent over, leaning forward.png: 640x384 1 person, 82.4ms\n",
      "Speed: 1.0ms preprocess, 82.4ms inference, 9.4ms postprocess per image at shape (1, 3, 640, 640)\n",
      "\n"
     ]
    },
    {
     "name": "stdout",
     "output_type": "stream",
     "text": [
      "min_mask_size:102840.0\n",
      "101812.5\n",
      "min_mask_size:85391.0\n",
      "89225.0\n"
     ]
    },
    {
     "name": "stderr",
     "output_type": "stream",
     "text": [
      "image 1/1 E:\\stable-diffusion\\sd-webui-aki-v4.1\\outputs\\txt2img-images2\\00027-3118112185-dutch angle,sitting, blush,smile,black_hair,brown_hair,footwear,legwear,_1girl,solo,dress,skirt, road,bent over, leaning forward.png: 640x384 1 person, 82.4ms\n",
      "Speed: 0.5ms preprocess, 82.4ms inference, 10.5ms postprocess per image at shape (1, 3, 640, 640)\n",
      "\n",
      "image 1/1 E:\\stable-diffusion\\sd-webui-aki-v4.1\\outputs\\txt2img-images2\\00028-336008364-dutch angle,sitting, blush,smile,black_hair,black_hair,footwear,legwear,_1girl,solo,dress,skirt, road,bent over, leaning forward.png: 640x384 1 person, 79.2ms\n",
      "Speed: 2.0ms preprocess, 79.2ms inference, 9.0ms postprocess per image at shape (1, 3, 640, 640)\n",
      "\n"
     ]
    },
    {
     "name": "stdout",
     "output_type": "stream",
     "text": [
      "min_mask_size:105739.0\n",
      "103622.0\n",
      "min_mask_size:75374.0\n",
      "74833.5\n"
     ]
    },
    {
     "name": "stderr",
     "output_type": "stream",
     "text": [
      "image 1/1 E:\\stable-diffusion\\sd-webui-aki-v4.1\\outputs\\txt2img-images2\\00029-3665583160-dutch angle,sitting, blush,smile,black_hair,white_hair,footwear,legwear,_1girl,solo,dress,skirt, road,bent over, leaning forward.png: 640x384 1 person, 81.7ms\n",
      "Speed: 2.0ms preprocess, 81.7ms inference, 9.5ms postprocess per image at shape (1, 3, 640, 640)\n",
      "\n",
      "image 1/1 E:\\stable-diffusion\\sd-webui-aki-v4.1\\outputs\\txt2img-images2\\00030-2644258699-dutch angle,sitting, blush,smile,black_hair,red_hair,footwear,legwear,_1girl,solo,dress,skirt, road,bent over, leaning forward,.png: 640x384 1 person, 85.8ms\n",
      "Speed: 1.0ms preprocess, 85.8ms inference, 6.0ms postprocess per image at shape (1, 3, 640, 640)\n",
      "\n"
     ]
    },
    {
     "name": "stdout",
     "output_type": "stream",
     "text": [
      "min_mask_size:93437.0\n",
      "92604.5\n",
      "min_mask_size:78767.0\n",
      "77932.5\n"
     ]
    },
    {
     "name": "stderr",
     "output_type": "stream",
     "text": [
      "image 1/1 E:\\stable-diffusion\\sd-webui-aki-v4.1\\outputs\\txt2img-images2\\00031-1782321201-dutch angle,sitting, blush,smile,black_hair,blue_hair,footwear,legwear,_1girl,solo,dress,skirt, road,bent over, leaning forward,.png: 640x384 1 person, 84.3ms\n",
      "Speed: 1.6ms preprocess, 84.3ms inference, 10.6ms postprocess per image at shape (1, 3, 640, 640)\n",
      "\n",
      "image 1/1 E:\\stable-diffusion\\sd-webui-aki-v4.1\\outputs\\txt2img-images2\\00032-2973244275-dutch angle,sitting, blush,smile,black_hair,green_hair,footwear,legwear,_1girl,solo,dress,skirt, road,bent over, leaning forward.png: 640x384 1 person, 90.3ms\n",
      "Speed: 1.0ms preprocess, 90.3ms inference, 8.6ms postprocess per image at shape (1, 3, 640, 640)\n",
      "\n"
     ]
    },
    {
     "name": "stdout",
     "output_type": "stream",
     "text": [
      "min_mask_size:90030.0\n",
      "89232.5\n",
      "min_mask_size:95150.0\n",
      "94118.0\n"
     ]
    },
    {
     "name": "stderr",
     "output_type": "stream",
     "text": [
      "image 1/1 E:\\stable-diffusion\\sd-webui-aki-v4.1\\outputs\\txt2img-images2\\00033-632773547-dutch angle,sitting, blush,smile,black_hair,brown_hair,footwear,legwear,_1girl,solo,dress,skirt, road,bent over, leaning forward.png: 640x384 1 person, 88.8ms\n",
      "Speed: 1.0ms preprocess, 88.8ms inference, 9.3ms postprocess per image at shape (1, 3, 640, 640)\n",
      "\n",
      "image 1/1 E:\\stable-diffusion\\sd-webui-aki-v4.1\\outputs\\txt2img-images2\\00034-398834140-dutch angle,sitting, blush,smile,black_hair,black_hair,footwear,legwear,_1girl,solo,dress,skirt, road,bent over, leaning forward.png: 640x384 1 person, 88.0ms\n",
      "Speed: 1.0ms preprocess, 88.0ms inference, 11.0ms postprocess per image at shape (1, 3, 640, 640)\n",
      "\n"
     ]
    },
    {
     "name": "stdout",
     "output_type": "stream",
     "text": [
      "min_mask_size:88144.0\n",
      "87263.5\n",
      "min_mask_size:83143.0\n",
      "81232.0\n"
     ]
    },
    {
     "name": "stderr",
     "output_type": "stream",
     "text": [
      "image 1/1 E:\\stable-diffusion\\sd-webui-aki-v4.1\\outputs\\txt2img-images2\\00035-441952219-dutch angle,sitting, blush,smile,black_hair,white_hair,footwear,legwear,_1girl,solo,dress,skirt, road,bent over, leaning forward.png: 640x384 1 person, 86.4ms\n",
      "Speed: 1.0ms preprocess, 86.4ms inference, 9.4ms postprocess per image at shape (1, 3, 640, 640)\n",
      "\n",
      "image 1/1 E:\\stable-diffusion\\sd-webui-aki-v4.1\\outputs\\txt2img-images2\\00036-2837171936-dutch angle,sitting, blush,smile,black_hair,red_hair,footwear,legwear,_1girl,solo,dress,skirt, road,bent over, leaning forward,.png: 640x384 1 person, 59.2ms\n",
      "Speed: 0.0ms preprocess, 59.2ms inference, 1.0ms postprocess per image at shape (1, 3, 640, 640)\n",
      "\n",
      "image 1/1 E:\\stable-diffusion\\sd-webui-aki-v4.1\\outputs\\txt2img-images2\\00037-1318562777-dutch angle,sitting, blush,smile,black_hair,blue_hair,footwear,legwear,_1girl,solo,dress,skirt, road,bent over, leaning forward,.png: 640x384 1 person, 30.2ms\n",
      "Speed: 0.0ms preprocess, 30.2ms inference, 3.5ms postprocess per image at shape (1, 3, 640, 640)\n",
      "\n"
     ]
    },
    {
     "name": "stdout",
     "output_type": "stream",
     "text": [
      "min_mask_size:77943.0\n",
      "76947.0\n",
      "min_mask_size:134667.0\n",
      "133364.5\n",
      "min_mask_size:70657.0\n",
      "71681.0\n"
     ]
    },
    {
     "name": "stderr",
     "output_type": "stream",
     "text": [
      "image 1/1 E:\\stable-diffusion\\sd-webui-aki-v4.1\\outputs\\txt2img-images2\\00038-2109922265-dutch angle,sitting, blush,smile,black_hair,green_hair,footwear,legwear,_1girl,solo,dress,skirt, road,bent over, leaning forward.png: 640x384 1 person, 28.8ms\n",
      "Speed: 1.0ms preprocess, 28.8ms inference, 3.0ms postprocess per image at shape (1, 3, 640, 640)\n",
      "\n",
      "image 1/1 E:\\stable-diffusion\\sd-webui-aki-v4.1\\outputs\\txt2img-images2\\00039-3822690434-dutch angle,sitting, blush,smile,black_hair,brown_hair,footwear,legwear,_1girl,solo,dress,skirt, road,bent over, leaning forward.png: 640x384 1 person, 86.2ms\n",
      "Speed: 0.0ms preprocess, 86.2ms inference, 7.1ms postprocess per image at shape (1, 3, 640, 640)\n",
      "\n"
     ]
    },
    {
     "name": "stdout",
     "output_type": "stream",
     "text": [
      "min_mask_size:49337.0\n",
      "48630.5\n",
      "min_mask_size:83407.0\n",
      "82654.5\n"
     ]
    },
    {
     "name": "stderr",
     "output_type": "stream",
     "text": [
      "image 1/1 E:\\stable-diffusion\\sd-webui-aki-v4.1\\outputs\\txt2img-images2\\00040-1362527558-dutch angle,sitting, blush,smile,black_hair,black_hair,footwear,legwear,_1girl,solo,dress,skirt, road,bent over, leaning forward.png: 640x384 1 person, 87.4ms\n",
      "Speed: 1.1ms preprocess, 87.4ms inference, 8.0ms postprocess per image at shape (1, 3, 640, 640)\n",
      "\n",
      "image 1/1 E:\\stable-diffusion\\sd-webui-aki-v4.1\\outputs\\txt2img-images2\\00041-942399164-dutch angle,sitting, blush,smile,black_hair,white_hair,footwear,legwear,_1girl,solo,dress,skirt, road,bent over, leaning forward.png: 640x384 1 person, 90.0ms\n",
      "Speed: 1.0ms preprocess, 90.0ms inference, 9.2ms postprocess per image at shape (1, 3, 640, 640)\n",
      "\n"
     ]
    },
    {
     "name": "stdout",
     "output_type": "stream",
     "text": [
      "min_mask_size:79868.0\n",
      "78891.0\n",
      "min_mask_size:99227.0\n",
      "98119.5\n"
     ]
    },
    {
     "name": "stderr",
     "output_type": "stream",
     "text": [
      "image 1/1 E:\\stable-diffusion\\sd-webui-aki-v4.1\\outputs\\txt2img-images2\\00042-1760520169-dutch angle,sitting, blush,smile,black_hair,red_hair,footwear,legwear,_1girl,solo,dress,skirt, road,bent over, leaning forward,.png: 640x384 1 person, 88.3ms\n",
      "Speed: 3.5ms preprocess, 88.3ms inference, 9.0ms postprocess per image at shape (1, 3, 640, 640)\n",
      "\n",
      "image 1/1 E:\\stable-diffusion\\sd-webui-aki-v4.1\\outputs\\txt2img-images2\\00043-2094962628-dutch angle,sitting, blush,smile,black_hair,blue_hair,footwear,legwear,_1girl,solo,dress,skirt, road,bent over, leaning forward,.png: 640x384 1 person, 85.8ms\n",
      "Speed: 1.0ms preprocess, 85.8ms inference, 10.0ms postprocess per image at shape (1, 3, 640, 640)\n",
      "\n"
     ]
    },
    {
     "name": "stdout",
     "output_type": "stream",
     "text": [
      "min_mask_size:104202.0\n",
      "108629.5\n",
      "min_mask_size:76349.0\n",
      "75684.5\n"
     ]
    },
    {
     "name": "stderr",
     "output_type": "stream",
     "text": [
      "image 1/1 E:\\stable-diffusion\\sd-webui-aki-v4.1\\outputs\\txt2img-images2\\00044-3199199360-dutch angle,sitting, blush,smile,black_hair,green_hair,footwear,legwear,_1girl,solo,dress,skirt, road,bent over, leaning forward.png: 640x384 1 person, 88.3ms\n",
      "Speed: 1.1ms preprocess, 88.3ms inference, 8.6ms postprocess per image at shape (1, 3, 640, 640)\n",
      "\n",
      "image 1/1 E:\\stable-diffusion\\sd-webui-aki-v4.1\\outputs\\txt2img-images2\\00045-917342376-dutch angle,sitting, blush,smile,black_hair,brown_hair,footwear,legwear,_1girl,solo,dress,skirt, road,bent over, leaning forward.png: 640x384 1 person, 85.5ms\n",
      "Speed: 1.6ms preprocess, 85.5ms inference, 9.6ms postprocess per image at shape (1, 3, 640, 640)\n",
      "\n"
     ]
    },
    {
     "name": "stdout",
     "output_type": "stream",
     "text": [
      "min_mask_size:102347.0\n",
      "102865.5\n",
      "min_mask_size:63255.0\n",
      "62414.5\n"
     ]
    },
    {
     "name": "stderr",
     "output_type": "stream",
     "text": [
      "image 1/1 E:\\stable-diffusion\\sd-webui-aki-v4.1\\outputs\\txt2img-images2\\00046-876527554-dutch angle,sitting, blush,smile,black_hair,black_hair,footwear,legwear,_1girl,solo,dress,skirt, road,bent over, leaning forward.png: 640x384 1 person, 88.8ms\n",
      "Speed: 1.5ms preprocess, 88.8ms inference, 10.1ms postprocess per image at shape (1, 3, 640, 640)\n",
      "\n",
      "image 1/1 E:\\stable-diffusion\\sd-webui-aki-v4.1\\outputs\\txt2img-images2\\00047-2405535600-dutch angle,sitting, blush,smile,black_hair,white_hair,footwear,legwear,_1girl,solo,dress,skirt, road,kneeling_,.png: 640x384 1 person, 88.8ms\n",
      "Speed: 1.0ms preprocess, 88.8ms inference, 11.2ms postprocess per image at shape (1, 3, 640, 640)\n",
      "\n"
     ]
    },
    {
     "name": "stdout",
     "output_type": "stream",
     "text": [
      "min_mask_size:78428.0\n",
      "77775.0\n",
      "min_mask_size:107291.0\n",
      "104845.5\n"
     ]
    },
    {
     "name": "stderr",
     "output_type": "stream",
     "text": [
      "image 1/1 E:\\stable-diffusion\\sd-webui-aki-v4.1\\outputs\\txt2img-images2\\00048-2405535601-dutch angle,sitting, blush,smile,black_hair,white_hair,footwear,legwear,_1girl,solo,dress,skirt, road,kneeling_,.png: 640x384 1 person, 92.0ms\n",
      "Speed: 0.5ms preprocess, 92.0ms inference, 9.0ms postprocess per image at shape (1, 3, 640, 640)\n",
      "\n",
      "image 1/1 E:\\stable-diffusion\\sd-webui-aki-v4.1\\outputs\\txt2img-images2\\00049-2405535602-dutch angle,sitting, blush,smile,black_hair,white_hair,footwear,legwear,_1girl,solo,dress,skirt, road,kneeling_,.png: 640x384 1 person, 88.4ms\n",
      "Speed: 1.0ms preprocess, 88.4ms inference, 9.9ms postprocess per image at shape (1, 3, 640, 640)\n",
      "\n"
     ]
    },
    {
     "name": "stdout",
     "output_type": "stream",
     "text": [
      "min_mask_size:132586.0\n",
      "128518.0\n",
      "min_mask_size:75574.0\n",
      "74887.5\n"
     ]
    },
    {
     "name": "stderr",
     "output_type": "stream",
     "text": [
      "image 1/1 E:\\stable-diffusion\\sd-webui-aki-v4.1\\outputs\\txt2img-images2\\00050-2405535603-dutch angle,sitting, blush,smile,black_hair,white_hair,footwear,legwear,_1girl,solo,dress,skirt, road,kneeling_,.png: 640x384 1 person, 88.1ms\n",
      "Speed: 1.0ms preprocess, 88.1ms inference, 10.5ms postprocess per image at shape (1, 3, 640, 640)\n",
      "\n",
      "image 1/1 E:\\stable-diffusion\\sd-webui-aki-v4.1\\outputs\\txt2img-images2\\00051-530445697-dutch angle,sitting, blush,smile,black_hair,red_hair,footwear,legwear,_1girl,solo,dress,skirt, road,kneeling_,.png: 640x384 1 person, 88.0ms\n",
      "Speed: 1.0ms preprocess, 88.0ms inference, 10.8ms postprocess per image at shape (1, 3, 640, 640)\n",
      "\n"
     ]
    },
    {
     "name": "stdout",
     "output_type": "stream",
     "text": [
      "min_mask_size:102292.0\n",
      "101128.5\n",
      "min_mask_size:74887.0\n",
      "74241.5\n"
     ]
    },
    {
     "name": "stderr",
     "output_type": "stream",
     "text": [
      "image 1/1 E:\\stable-diffusion\\sd-webui-aki-v4.1\\outputs\\txt2img-images2\\00052-530445698-dutch angle,sitting, blush,smile,black_hair,red_hair,footwear,legwear,_1girl,solo,dress,skirt, road,kneeling_,.png: 640x384 1 person, 91.6ms\n",
      "Speed: 1.0ms preprocess, 91.6ms inference, 9.0ms postprocess per image at shape (1, 3, 640, 640)\n",
      "\n",
      "image 1/1 E:\\stable-diffusion\\sd-webui-aki-v4.1\\outputs\\txt2img-images2\\00053-530445699-dutch angle,sitting, blush,smile,black_hair,red_hair,footwear,legwear,_1girl,solo,dress,skirt, road,kneeling_,.png: 640x384 1 person, 106.9ms\n",
      "Speed: 2.0ms preprocess, 106.9ms inference, 11.0ms postprocess per image at shape (1, 3, 640, 640)\n",
      "\n"
     ]
    },
    {
     "name": "stdout",
     "output_type": "stream",
     "text": [
      "min_mask_size:100418.0\n",
      "99444.5\n",
      "min_mask_size:90139.0\n",
      "89180.5\n"
     ]
    },
    {
     "name": "stderr",
     "output_type": "stream",
     "text": [
      "image 1/1 E:\\stable-diffusion\\sd-webui-aki-v4.1\\outputs\\txt2img-images2\\00054-530445700-dutch angle,sitting, blush,smile,black_hair,red_hair,footwear,legwear,_1girl,solo,dress,skirt, road,kneeling_,.png: 640x384 1 person, 91.6ms\n",
      "Speed: 1.0ms preprocess, 91.6ms inference, 11.2ms postprocess per image at shape (1, 3, 640, 640)\n",
      "\n",
      "image 1/1 E:\\stable-diffusion\\sd-webui-aki-v4.1\\outputs\\txt2img-images2\\00055-1196932964-dutch angle,sitting, blush,smile,black_hair,blue_hair,footwear,legwear,_1girl,solo,dress,skirt, road,kneeling_,.png: 640x384 1 person, 97.3ms\n",
      "Speed: 1.0ms preprocess, 97.3ms inference, 13.6ms postprocess per image at shape (1, 3, 640, 640)\n",
      "\n"
     ]
    },
    {
     "name": "stdout",
     "output_type": "stream",
     "text": [
      "min_mask_size:72490.0\n",
      "71592.0\n",
      "min_mask_size:94460.0\n",
      "93579.5\n"
     ]
    },
    {
     "name": "stderr",
     "output_type": "stream",
     "text": [
      "image 1/1 E:\\stable-diffusion\\sd-webui-aki-v4.1\\outputs\\txt2img-images2\\00056-1196932965-dutch angle,sitting, blush,smile,black_hair,blue_hair,footwear,legwear,_1girl,solo,dress,skirt, road,kneeling_,.png: 640x384 1 person, 94.1ms\n",
      "Speed: 2.5ms preprocess, 94.1ms inference, 11.1ms postprocess per image at shape (1, 3, 640, 640)\n",
      "\n",
      "image 1/1 E:\\stable-diffusion\\sd-webui-aki-v4.1\\outputs\\txt2img-images2\\00057-1196932966-dutch angle,sitting, blush,smile,black_hair,blue_hair,footwear,legwear,_1girl,solo,dress,skirt, road,kneeling_,.png: 640x384 1 person, 86.8ms\n",
      "Speed: 1.1ms preprocess, 86.8ms inference, 10.4ms postprocess per image at shape (1, 3, 640, 640)\n",
      "\n"
     ]
    },
    {
     "name": "stdout",
     "output_type": "stream",
     "text": [
      "min_mask_size:81451.0\n",
      "80732.5\n",
      "min_mask_size:113386.0\n",
      "110986.5\n"
     ]
    },
    {
     "name": "stderr",
     "output_type": "stream",
     "text": [
      "image 1/1 E:\\stable-diffusion\\sd-webui-aki-v4.1\\outputs\\txt2img-images2\\00058-1196932967-dutch angle,sitting, blush,smile,black_hair,blue_hair,footwear,legwear,_1girl,solo,dress,skirt, road,kneeling_,.png: 640x384 1 person, 87.8ms\n",
      "Speed: 2.6ms preprocess, 87.8ms inference, 6.0ms postprocess per image at shape (1, 3, 640, 640)\n",
      "\n",
      "image 1/1 E:\\stable-diffusion\\sd-webui-aki-v4.1\\outputs\\txt2img-images2\\00059-3359637721-dutch angle,sitting, blush,smile,black_hair,green_hair,footwear,legwear,_1girl,solo,dress,skirt, road,kneeling_,.png: 640x384 1 person, 87.2ms\n",
      "Speed: 0.8ms preprocess, 87.2ms inference, 10.0ms postprocess per image at shape (1, 3, 640, 640)\n",
      "\n"
     ]
    },
    {
     "name": "stdout",
     "output_type": "stream",
     "text": [
      "min_mask_size:101095.0\n",
      "100290.0\n",
      "min_mask_size:58461.0\n",
      "57674.5\n"
     ]
    },
    {
     "name": "stderr",
     "output_type": "stream",
     "text": [
      "image 1/1 E:\\stable-diffusion\\sd-webui-aki-v4.1\\outputs\\txt2img-images2\\00060-3359637722-dutch angle,sitting, blush,smile,black_hair,green_hair,footwear,legwear,_1girl,solo,dress,skirt, road,kneeling_,.png: 640x384 1 person, 89.8ms\n",
      "Speed: 2.0ms preprocess, 89.8ms inference, 9.4ms postprocess per image at shape (1, 3, 640, 640)\n",
      "\n",
      "image 1/1 E:\\stable-diffusion\\sd-webui-aki-v4.1\\outputs\\txt2img-images2\\00061-3359637723-dutch angle,sitting, blush,smile,black_hair,green_hair,footwear,legwear,_1girl,solo,dress,skirt, road,kneeling_,.png: 640x384 1 person, 90.1ms\n",
      "Speed: 0.0ms preprocess, 90.1ms inference, 7.6ms postprocess per image at shape (1, 3, 640, 640)\n",
      "\n"
     ]
    },
    {
     "name": "stdout",
     "output_type": "stream",
     "text": [
      "min_mask_size:91558.0\n",
      "89355.0\n",
      "min_mask_size:106943.0\n",
      "106124.0\n"
     ]
    },
    {
     "name": "stderr",
     "output_type": "stream",
     "text": [
      "image 1/1 E:\\stable-diffusion\\sd-webui-aki-v4.1\\outputs\\txt2img-images2\\00062-3359637724-dutch angle,sitting, blush,smile,black_hair,green_hair,footwear,legwear,_1girl,solo,dress,skirt, road,kneeling_,.png: 640x384 1 person, 91.2ms\n",
      "Speed: 0.9ms preprocess, 91.2ms inference, 9.5ms postprocess per image at shape (1, 3, 640, 640)\n",
      "\n",
      "image 1/1 E:\\stable-diffusion\\sd-webui-aki-v4.1\\outputs\\txt2img-images2\\00063-869589746-dutch angle,sitting, blush,smile,black_hair,brown_hair,footwear,legwear,_1girl,solo,dress,skirt, road,kneeling_,.png: 640x384 1 person, 82.7ms\n",
      "Speed: 0.9ms preprocess, 82.7ms inference, 8.6ms postprocess per image at shape (1, 3, 640, 640)\n",
      "\n"
     ]
    },
    {
     "name": "stdout",
     "output_type": "stream",
     "text": [
      "min_mask_size:111148.0\n",
      "109945.0\n",
      "min_mask_size:125465.0\n",
      "124096.0\n"
     ]
    },
    {
     "name": "stderr",
     "output_type": "stream",
     "text": [
      "image 1/1 E:\\stable-diffusion\\sd-webui-aki-v4.1\\outputs\\txt2img-images2\\00064-869589747-dutch angle,sitting, blush,smile,black_hair,brown_hair,footwear,legwear,_1girl,solo,dress,skirt, road,kneeling_,.png: 640x384 1 person, 93.8ms\n",
      "Speed: 1.0ms preprocess, 93.8ms inference, 9.3ms postprocess per image at shape (1, 3, 640, 640)\n",
      "\n",
      "image 1/1 E:\\stable-diffusion\\sd-webui-aki-v4.1\\outputs\\txt2img-images2\\00065-869589748-dutch angle,sitting, blush,smile,black_hair,brown_hair,footwear,legwear,_1girl,solo,dress,skirt, road,kneeling_,.png: 640x384 1 person, 90.0ms\n",
      "Speed: 1.0ms preprocess, 90.0ms inference, 10.5ms postprocess per image at shape (1, 3, 640, 640)\n",
      "\n"
     ]
    },
    {
     "name": "stdout",
     "output_type": "stream",
     "text": [
      "min_mask_size:96248.0\n",
      "95373.0\n",
      "min_mask_size:99000.0\n",
      "96340.5\n"
     ]
    },
    {
     "name": "stderr",
     "output_type": "stream",
     "text": [
      "image 1/1 E:\\stable-diffusion\\sd-webui-aki-v4.1\\outputs\\txt2img-images2\\00066-869589749-dutch angle,sitting, blush,smile,black_hair,brown_hair,footwear,legwear,_1girl,solo,dress,skirt, road,kneeling_,.png: 640x384 1 person, 84.2ms\n",
      "Speed: 2.0ms preprocess, 84.2ms inference, 8.9ms postprocess per image at shape (1, 3, 640, 640)\n",
      "\n",
      "image 1/1 E:\\stable-diffusion\\sd-webui-aki-v4.1\\outputs\\txt2img-images2\\00067-3226229098-dutch angle,sitting, blush,smile,black_hair,black_hair,footwear,legwear,_1girl,solo,dress,skirt, road,kneeling_,.png: 640x384 1 person, 85.3ms\n",
      "Speed: 2.0ms preprocess, 85.3ms inference, 10.6ms postprocess per image at shape (1, 3, 640, 640)\n",
      "\n"
     ]
    },
    {
     "name": "stdout",
     "output_type": "stream",
     "text": [
      "min_mask_size:79063.0\n",
      "79190.5\n",
      "min_mask_size:125127.0\n",
      "124092.0\n"
     ]
    },
    {
     "name": "stderr",
     "output_type": "stream",
     "text": [
      "image 1/1 E:\\stable-diffusion\\sd-webui-aki-v4.1\\outputs\\txt2img-images2\\00068-3226229099-dutch angle,sitting, blush,smile,black_hair,black_hair,footwear,legwear,_1girl,solo,dress,skirt, road,kneeling_,.png: 640x384 1 person, 89.8ms\n",
      "Speed: 1.0ms preprocess, 89.8ms inference, 11.0ms postprocess per image at shape (1, 3, 640, 640)\n",
      "\n",
      "image 1/1 E:\\stable-diffusion\\sd-webui-aki-v4.1\\outputs\\txt2img-images2\\00069-3226229100-dutch angle,sitting, blush,smile,black_hair,black_hair,footwear,legwear,_1girl,solo,dress,skirt, road,kneeling_,.png: 640x384 1 person, 93.9ms\n",
      "Speed: 1.2ms preprocess, 93.9ms inference, 11.0ms postprocess per image at shape (1, 3, 640, 640)\n",
      "\n"
     ]
    },
    {
     "name": "stdout",
     "output_type": "stream",
     "text": [
      "min_mask_size:142905.0\n",
      "142079.0\n",
      "min_mask_size:126938.0\n",
      "126118.0\n"
     ]
    },
    {
     "name": "stderr",
     "output_type": "stream",
     "text": [
      "image 1/1 E:\\stable-diffusion\\sd-webui-aki-v4.1\\outputs\\txt2img-images2\\00070-3226229101-dutch angle,sitting, blush,smile,black_hair,black_hair,footwear,legwear,_1girl,solo,dress,skirt, road,kneeling_,.png: 640x384 1 person, 86.2ms\n",
      "Speed: 1.0ms preprocess, 86.2ms inference, 9.9ms postprocess per image at shape (1, 3, 640, 640)\n",
      "\n",
      "image 1/1 E:\\stable-diffusion\\sd-webui-aki-v4.1\\outputs\\txt2img-images2\\00071-168678537-dutch angle,sitting, blush,smile,black_hair,white_hair,footwear,legwear,_1girl,solo,dress,skirt, road,kneeling_,.png: 640x384 1 person, 92.5ms\n",
      "Speed: 2.1ms preprocess, 92.5ms inference, 9.6ms postprocess per image at shape (1, 3, 640, 640)\n",
      "\n"
     ]
    },
    {
     "name": "stdout",
     "output_type": "stream",
     "text": [
      "min_mask_size:101380.0\n",
      "100428.5\n",
      "min_mask_size:98562.0\n",
      "97779.0\n"
     ]
    },
    {
     "name": "stderr",
     "output_type": "stream",
     "text": [
      "image 1/1 E:\\stable-diffusion\\sd-webui-aki-v4.1\\outputs\\txt2img-images2\\00072-168678538-dutch angle,sitting, blush,smile,black_hair,white_hair,footwear,legwear,_1girl,solo,dress,skirt, road,kneeling_,.png: 640x384 1 person, 87.2ms\n",
      "Speed: 1.0ms preprocess, 87.2ms inference, 8.6ms postprocess per image at shape (1, 3, 640, 640)\n",
      "\n",
      "image 1/1 E:\\stable-diffusion\\sd-webui-aki-v4.1\\outputs\\txt2img-images2\\00073-168678539-dutch angle,sitting, blush,smile,black_hair,white_hair,footwear,legwear,_1girl,solo,dress,skirt, road,kneeling_,.png: 640x384 1 person, 85.0ms\n",
      "Speed: 1.3ms preprocess, 85.0ms inference, 9.2ms postprocess per image at shape (1, 3, 640, 640)\n",
      "\n"
     ]
    },
    {
     "name": "stdout",
     "output_type": "stream",
     "text": [
      "min_mask_size:102111.0\n",
      "100789.5\n",
      "min_mask_size:96821.0\n",
      "97453.0\n"
     ]
    },
    {
     "name": "stderr",
     "output_type": "stream",
     "text": [
      "image 1/1 E:\\stable-diffusion\\sd-webui-aki-v4.1\\outputs\\txt2img-images2\\00074-168678540-dutch angle,sitting, blush,smile,black_hair,white_hair,footwear,legwear,_1girl,solo,dress,skirt, road,kneeling_,.png: 640x384 1 person, 89.2ms\n",
      "Speed: 1.0ms preprocess, 89.2ms inference, 9.0ms postprocess per image at shape (1, 3, 640, 640)\n",
      "\n",
      "image 1/1 E:\\stable-diffusion\\sd-webui-aki-v4.1\\outputs\\txt2img-images2\\00075-177800318-dutch angle,sitting, blush,smile,black_hair,red_hair,footwear,legwear,_1girl,solo,dress,skirt, road,kneeling_,.png: 640x384 1 person, 88.2ms\n",
      "Speed: 1.0ms preprocess, 88.2ms inference, 10.6ms postprocess per image at shape (1, 3, 640, 640)\n",
      "\n"
     ]
    },
    {
     "name": "stdout",
     "output_type": "stream",
     "text": [
      "min_mask_size:143945.0\n",
      "143026.5\n",
      "min_mask_size:108289.0\n",
      "106417.0\n"
     ]
    },
    {
     "name": "stderr",
     "output_type": "stream",
     "text": [
      "image 1/1 E:\\stable-diffusion\\sd-webui-aki-v4.1\\outputs\\txt2img-images2\\00076-177800319-dutch angle,sitting, blush,smile,black_hair,red_hair,footwear,legwear,_1girl,solo,dress,skirt, road,kneeling_,.png: 640x384 1 person, 95.7ms\n",
      "Speed: 1.0ms preprocess, 95.7ms inference, 9.0ms postprocess per image at shape (1, 3, 640, 640)\n",
      "\n",
      "image 1/1 E:\\stable-diffusion\\sd-webui-aki-v4.1\\outputs\\txt2img-images2\\00077-177800320-dutch angle,sitting, blush,smile,black_hair,red_hair,footwear,legwear,_1girl,solo,dress,skirt, road,kneeling_,.png: 640x384 1 person, 90.8ms\n",
      "Speed: 1.0ms preprocess, 90.8ms inference, 10.3ms postprocess per image at shape (1, 3, 640, 640)\n",
      "\n"
     ]
    },
    {
     "name": "stdout",
     "output_type": "stream",
     "text": [
      "min_mask_size:108675.0\n",
      "107705.0\n",
      "min_mask_size:101737.0\n",
      "100526.0\n"
     ]
    },
    {
     "name": "stderr",
     "output_type": "stream",
     "text": [
      "image 1/1 E:\\stable-diffusion\\sd-webui-aki-v4.1\\outputs\\txt2img-images2\\00078-177800321-dutch angle,sitting, blush,smile,black_hair,red_hair,footwear,legwear,_1girl,solo,dress,skirt, road,kneeling_,.png: 640x384 1 person, 89.3ms\n",
      "Speed: 1.0ms preprocess, 89.3ms inference, 9.8ms postprocess per image at shape (1, 3, 640, 640)\n",
      "\n",
      "image 1/1 E:\\stable-diffusion\\sd-webui-aki-v4.1\\outputs\\txt2img-images2\\00079-3687233587-dutch angle,sitting, blush,smile,black_hair,blue_hair,footwear,legwear,_1girl,solo,dress,skirt, road,kneeling_,.png: 640x384 1 person, 89.0ms\n",
      "Speed: 1.0ms preprocess, 89.0ms inference, 10.5ms postprocess per image at shape (1, 3, 640, 640)\n",
      "\n"
     ]
    },
    {
     "name": "stdout",
     "output_type": "stream",
     "text": [
      "min_mask_size:101328.0\n",
      "100292.0\n",
      "min_mask_size:114501.0\n",
      "111851.5\n"
     ]
    },
    {
     "name": "stderr",
     "output_type": "stream",
     "text": [
      "image 1/1 E:\\stable-diffusion\\sd-webui-aki-v4.1\\outputs\\txt2img-images2\\00080-3687233588-dutch angle,sitting, blush,smile,black_hair,blue_hair,footwear,legwear,_1girl,solo,dress,skirt, road,kneeling_,.png: 640x384 1 person, 87.4ms\n",
      "Speed: 1.0ms preprocess, 87.4ms inference, 9.7ms postprocess per image at shape (1, 3, 640, 640)\n",
      "\n",
      "image 1/1 E:\\stable-diffusion\\sd-webui-aki-v4.1\\outputs\\txt2img-images2\\00081-3687233589-dutch angle,sitting, blush,smile,black_hair,blue_hair,footwear,legwear,_1girl,solo,dress,skirt, road,kneeling_,.png: 640x384 1 person, 87.3ms\n",
      "Speed: 1.0ms preprocess, 87.3ms inference, 10.6ms postprocess per image at shape (1, 3, 640, 640)\n",
      "\n"
     ]
    },
    {
     "name": "stdout",
     "output_type": "stream",
     "text": [
      "min_mask_size:107124.0\n",
      "105627.5\n",
      "min_mask_size:98976.0\n",
      "96361.5\n"
     ]
    },
    {
     "name": "stderr",
     "output_type": "stream",
     "text": [
      "image 1/1 E:\\stable-diffusion\\sd-webui-aki-v4.1\\outputs\\txt2img-images2\\00082-3687233590-dutch angle,sitting, blush,smile,black_hair,blue_hair,footwear,legwear,_1girl,solo,dress,skirt, road,kneeling_,.png: 640x384 1 person, 88.7ms\n",
      "Speed: 1.0ms preprocess, 88.7ms inference, 8.9ms postprocess per image at shape (1, 3, 640, 640)\n",
      "\n",
      "image 1/1 E:\\stable-diffusion\\sd-webui-aki-v4.1\\outputs\\txt2img-images2\\00083-1061865652-dutch angle,sitting, blush,smile,black_hair,green_hair,footwear,legwear,_1girl,solo,dress,skirt, road,kneeling_,.png: 640x384 1 person, 90.0ms\n",
      "Speed: 1.0ms preprocess, 90.0ms inference, 10.2ms postprocess per image at shape (1, 3, 640, 640)\n",
      "\n"
     ]
    },
    {
     "name": "stdout",
     "output_type": "stream",
     "text": [
      "min_mask_size:111710.0\n",
      "110838.5\n",
      "min_mask_size:109397.0\n",
      "108668.0\n"
     ]
    },
    {
     "name": "stderr",
     "output_type": "stream",
     "text": [
      "image 1/1 E:\\stable-diffusion\\sd-webui-aki-v4.1\\outputs\\txt2img-images2\\00084-1061865653-dutch angle,sitting, blush,smile,black_hair,green_hair,footwear,legwear,_1girl,solo,dress,skirt, road,kneeling_,.png: 640x384 1 person, 86.5ms\n",
      "Speed: 1.0ms preprocess, 86.5ms inference, 9.9ms postprocess per image at shape (1, 3, 640, 640)\n",
      "\n",
      "image 1/1 E:\\stable-diffusion\\sd-webui-aki-v4.1\\outputs\\txt2img-images2\\00085-1061865654-dutch angle,sitting, blush,smile,black_hair,green_hair,footwear,legwear,_1girl,solo,dress,skirt, road,kneeling_,.png: 640x384 1 person, 84.9ms\n",
      "Speed: 1.1ms preprocess, 84.9ms inference, 10.0ms postprocess per image at shape (1, 3, 640, 640)\n",
      "\n"
     ]
    },
    {
     "name": "stdout",
     "output_type": "stream",
     "text": [
      "min_mask_size:130617.0\n",
      "127811.0\n",
      "min_mask_size:111527.0\n",
      "110728.0\n"
     ]
    },
    {
     "name": "stderr",
     "output_type": "stream",
     "text": [
      "image 1/1 E:\\stable-diffusion\\sd-webui-aki-v4.1\\outputs\\txt2img-images2\\00086-1061865655-dutch angle,sitting, blush,smile,black_hair,green_hair,footwear,legwear,_1girl,solo,dress,skirt, road,kneeling_,.png: 640x384 1 person, 87.0ms\n",
      "Speed: 1.0ms preprocess, 87.0ms inference, 8.6ms postprocess per image at shape (1, 3, 640, 640)\n",
      "\n",
      "image 1/1 E:\\stable-diffusion\\sd-webui-aki-v4.1\\outputs\\txt2img-images2\\00087-1100284198-dutch angle,sitting, blush,smile,black_hair,brown_hair,footwear,legwear,_1girl,solo,dress,skirt, road,kneeling_,.png: 640x384 1 person, 88.0ms\n",
      "Speed: 1.0ms preprocess, 88.0ms inference, 9.4ms postprocess per image at shape (1, 3, 640, 640)\n",
      "\n"
     ]
    },
    {
     "name": "stdout",
     "output_type": "stream",
     "text": [
      "min_mask_size:112800.0\n",
      "112648.5\n",
      "min_mask_size:145322.0\n",
      "146480.0\n"
     ]
    },
    {
     "name": "stderr",
     "output_type": "stream",
     "text": [
      "image 1/1 E:\\stable-diffusion\\sd-webui-aki-v4.1\\outputs\\txt2img-images2\\00088-1100284199-dutch angle,sitting, blush,smile,black_hair,brown_hair,footwear,legwear,_1girl,solo,dress,skirt, road,kneeling_,.png: 640x384 1 person, 85.7ms\n",
      "Speed: 1.2ms preprocess, 85.7ms inference, 11.6ms postprocess per image at shape (1, 3, 640, 640)\n",
      "\n",
      "image 1/1 E:\\stable-diffusion\\sd-webui-aki-v4.1\\outputs\\txt2img-images2\\00089-1100284200-dutch angle,sitting, blush,smile,black_hair,brown_hair,footwear,legwear,_1girl,solo,dress,skirt, road,kneeling_,.png: 640x384 1 person, 84.4ms\n",
      "Speed: 0.0ms preprocess, 84.4ms inference, 9.6ms postprocess per image at shape (1, 3, 640, 640)\n",
      "\n"
     ]
    },
    {
     "name": "stdout",
     "output_type": "stream",
     "text": [
      "min_mask_size:91932.0\n",
      "91083.0\n",
      "min_mask_size:119677.0\n",
      "117642.5\n"
     ]
    },
    {
     "name": "stderr",
     "output_type": "stream",
     "text": [
      "image 1/1 E:\\stable-diffusion\\sd-webui-aki-v4.1\\outputs\\txt2img-images2\\00090-1100284201-dutch angle,sitting, blush,smile,black_hair,brown_hair,footwear,legwear,_1girl,solo,dress,skirt, road,kneeling_,.png: 640x384 1 person, 87.3ms\n",
      "Speed: 0.9ms preprocess, 87.3ms inference, 9.3ms postprocess per image at shape (1, 3, 640, 640)\n",
      "\n",
      "image 1/1 E:\\stable-diffusion\\sd-webui-aki-v4.1\\outputs\\txt2img-images2\\00091-551970496-dutch angle,sitting, blush,smile,black_hair,black_hair,footwear,legwear,_1girl,solo,dress,skirt, road,kneeling_,.png: 640x384 1 person, 89.5ms\n",
      "Speed: 1.0ms preprocess, 89.5ms inference, 9.7ms postprocess per image at shape (1, 3, 640, 640)\n",
      "\n"
     ]
    },
    {
     "name": "stdout",
     "output_type": "stream",
     "text": [
      "min_mask_size:107750.0\n",
      "105167.5\n",
      "min_mask_size:118981.0\n",
      "118123.5\n"
     ]
    },
    {
     "name": "stderr",
     "output_type": "stream",
     "text": [
      "image 1/1 E:\\stable-diffusion\\sd-webui-aki-v4.1\\outputs\\txt2img-images2\\00092-551970497-dutch angle,sitting, blush,smile,black_hair,black_hair,footwear,legwear,_1girl,solo,dress,skirt, road,kneeling_,.png: 640x384 1 person, 89.4ms\n",
      "Speed: 1.0ms preprocess, 89.4ms inference, 7.7ms postprocess per image at shape (1, 3, 640, 640)\n",
      "\n",
      "image 1/1 E:\\stable-diffusion\\sd-webui-aki-v4.1\\outputs\\txt2img-images2\\00093-551970498-dutch angle,sitting, blush,smile,black_hair,black_hair,footwear,legwear,_1girl,solo,dress,skirt, road,kneeling_,.png: 640x384 1 person, 89.5ms\n",
      "Speed: 2.0ms preprocess, 89.5ms inference, 9.5ms postprocess per image at shape (1, 3, 640, 640)\n",
      "\n"
     ]
    },
    {
     "name": "stdout",
     "output_type": "stream",
     "text": [
      "min_mask_size:107843.0\n",
      "108577.5\n",
      "min_mask_size:110436.0\n",
      "109448.5\n"
     ]
    },
    {
     "name": "stderr",
     "output_type": "stream",
     "text": [
      "image 1/1 E:\\stable-diffusion\\sd-webui-aki-v4.1\\outputs\\txt2img-images2\\00094-551970499-dutch angle,sitting, blush,smile,black_hair,black_hair,footwear,legwear,_1girl,solo,dress,skirt, road,kneeling_,.png: 640x384 1 person, 88.1ms\n",
      "Speed: 1.0ms preprocess, 88.1ms inference, 10.0ms postprocess per image at shape (1, 3, 640, 640)\n",
      "\n",
      "image 1/1 E:\\stable-diffusion\\sd-webui-aki-v4.1\\outputs\\txt2img-images2\\00095-3583229134-dutch angle,sitting, blush,smile,black_hair,white_hair,footwear,legwear,_1girl,solo,dress,skirt, road,kneeling_,.png: 640x384 1 person, 88.0ms\n",
      "Speed: 0.8ms preprocess, 88.0ms inference, 9.1ms postprocess per image at shape (1, 3, 640, 640)\n",
      "\n"
     ]
    },
    {
     "name": "stdout",
     "output_type": "stream",
     "text": [
      "min_mask_size:90097.0\n",
      "89038.0\n",
      "min_mask_size:85598.0\n",
      "84493.5\n"
     ]
    },
    {
     "name": "stderr",
     "output_type": "stream",
     "text": [
      "image 1/1 E:\\stable-diffusion\\sd-webui-aki-v4.1\\outputs\\txt2img-images2\\00096-3583229135-dutch angle,sitting, blush,smile,black_hair,white_hair,footwear,legwear,_1girl,solo,dress,skirt, road,kneeling_,.png: 640x384 1 person, 87.8ms\n",
      "Speed: 0.0ms preprocess, 87.8ms inference, 9.1ms postprocess per image at shape (1, 3, 640, 640)\n",
      "\n",
      "image 1/1 E:\\stable-diffusion\\sd-webui-aki-v4.1\\outputs\\txt2img-images2\\00097-3583229136-dutch angle,sitting, blush,smile,black_hair,white_hair,footwear,legwear,_1girl,solo,dress,skirt, road,kneeling_,.png: 640x384 1 person, 88.6ms\n",
      "Speed: 1.6ms preprocess, 88.6ms inference, 11.2ms postprocess per image at shape (1, 3, 640, 640)\n",
      "\n"
     ]
    },
    {
     "name": "stdout",
     "output_type": "stream",
     "text": [
      "min_mask_size:114520.0\n",
      "113376.0\n",
      "min_mask_size:138652.0\n",
      "138150.0\n"
     ]
    },
    {
     "name": "stderr",
     "output_type": "stream",
     "text": [
      "image 1/1 E:\\stable-diffusion\\sd-webui-aki-v4.1\\outputs\\txt2img-images2\\00098-3583229137-dutch angle,sitting, blush,smile,black_hair,white_hair,footwear,legwear,_1girl,solo,dress,skirt, road,kneeling_,.png: 640x384 1 person, 89.4ms\n",
      "Speed: 1.0ms preprocess, 89.4ms inference, 10.7ms postprocess per image at shape (1, 3, 640, 640)\n",
      "\n",
      "image 1/1 E:\\stable-diffusion\\sd-webui-aki-v4.1\\outputs\\txt2img-images2\\00099-3973949181-dutch angle,sitting, blush,smile,black_hair,red_hair,footwear,legwear,_1girl,solo,dress,skirt, road,kneeling_,.png: 640x384 1 person, 87.3ms\n",
      "Speed: 2.0ms preprocess, 87.3ms inference, 9.4ms postprocess per image at shape (1, 3, 640, 640)\n",
      "\n"
     ]
    },
    {
     "name": "stdout",
     "output_type": "stream",
     "text": [
      "min_mask_size:106882.0\n",
      "105961.0\n",
      "min_mask_size:96128.0\n",
      "95403.5\n"
     ]
    },
    {
     "name": "stderr",
     "output_type": "stream",
     "text": [
      "image 1/1 E:\\stable-diffusion\\sd-webui-aki-v4.1\\outputs\\txt2img-images2\\00100-3973949182-dutch angle,sitting, blush,smile,black_hair,red_hair,footwear,legwear,_1girl,solo,dress,skirt, road,kneeling_,.png: 640x384 1 person, 86.5ms\n",
      "Speed: 1.0ms preprocess, 86.5ms inference, 11.0ms postprocess per image at shape (1, 3, 640, 640)\n",
      "\n",
      "image 1/1 E:\\stable-diffusion\\sd-webui-aki-v4.1\\outputs\\txt2img-images2\\00101-3973949183-dutch angle,sitting, blush,smile,black_hair,red_hair,footwear,legwear,_1girl,solo,dress,skirt, road,kneeling_,.png: 640x384 1 person, 90.5ms\n",
      "Speed: 0.0ms preprocess, 90.5ms inference, 10.3ms postprocess per image at shape (1, 3, 640, 640)\n",
      "\n"
     ]
    },
    {
     "name": "stdout",
     "output_type": "stream",
     "text": [
      "min_mask_size:100999.0\n",
      "100134.0\n",
      "min_mask_size:68345.0\n",
      "68190.5\n"
     ]
    },
    {
     "name": "stderr",
     "output_type": "stream",
     "text": [
      "image 1/1 E:\\stable-diffusion\\sd-webui-aki-v4.1\\outputs\\txt2img-images2\\00102-3973949184-dutch angle,sitting, blush,smile,black_hair,red_hair,footwear,legwear,_1girl,solo,dress,skirt, road,kneeling_,.png: 640x384 1 person, 88.4ms\n",
      "Speed: 1.0ms preprocess, 88.4ms inference, 8.7ms postprocess per image at shape (1, 3, 640, 640)\n",
      "\n",
      "image 1/1 E:\\stable-diffusion\\sd-webui-aki-v4.1\\outputs\\txt2img-images2\\00103-90245552-dutch angle,sitting, blush,smile,black_hair,blue_hair,footwear,legwear,_1girl,solo,dress,skirt, road,kneeling_,.png: 640x384 1 person, 86.5ms\n",
      "Speed: 1.0ms preprocess, 86.5ms inference, 9.1ms postprocess per image at shape (1, 3, 640, 640)\n",
      "\n"
     ]
    },
    {
     "name": "stdout",
     "output_type": "stream",
     "text": [
      "min_mask_size:99988.0\n",
      "99111.0\n",
      "min_mask_size:115038.0\n",
      "114063.0\n"
     ]
    },
    {
     "name": "stderr",
     "output_type": "stream",
     "text": [
      "image 1/1 E:\\stable-diffusion\\sd-webui-aki-v4.1\\outputs\\txt2img-images2\\00104-90245553-dutch angle,sitting, blush,smile,black_hair,blue_hair,footwear,legwear,_1girl,solo,dress,skirt, road,kneeling_,.png: 640x384 1 person, 87.9ms\n",
      "Speed: 1.0ms preprocess, 87.9ms inference, 8.2ms postprocess per image at shape (1, 3, 640, 640)\n",
      "\n",
      "image 1/1 E:\\stable-diffusion\\sd-webui-aki-v4.1\\outputs\\txt2img-images2\\00105-90245554-dutch angle,sitting, blush,smile,black_hair,blue_hair,footwear,legwear,_1girl,solo,dress,skirt, road,kneeling_,.png: 640x384 1 person, 87.7ms\n",
      "Speed: 1.3ms preprocess, 87.7ms inference, 10.2ms postprocess per image at shape (1, 3, 640, 640)\n",
      "\n"
     ]
    },
    {
     "name": "stdout",
     "output_type": "stream",
     "text": [
      "min_mask_size:94163.0\n",
      "93841.5\n",
      "min_mask_size:100163.0\n",
      "99306.0\n"
     ]
    },
    {
     "name": "stderr",
     "output_type": "stream",
     "text": [
      "image 1/1 E:\\stable-diffusion\\sd-webui-aki-v4.1\\outputs\\txt2img-images2\\00106-90245555-dutch angle,sitting, blush,smile,black_hair,blue_hair,footwear,legwear,_1girl,solo,dress,skirt, road,kneeling_,.png: 640x384 1 person, 86.8ms\n",
      "Speed: 1.1ms preprocess, 86.8ms inference, 10.2ms postprocess per image at shape (1, 3, 640, 640)\n",
      "\n",
      "image 1/1 E:\\stable-diffusion\\sd-webui-aki-v4.1\\outputs\\txt2img-images2\\00107-3066871366-dutch angle,sitting, blush,smile,black_hair,green_hair,footwear,legwear,_1girl,solo,dress,skirt, road,kneeling_,.png: 640x384 1 person, 88.9ms\n",
      "Speed: 1.0ms preprocess, 88.9ms inference, 9.2ms postprocess per image at shape (1, 3, 640, 640)\n",
      "\n"
     ]
    },
    {
     "name": "stdout",
     "output_type": "stream",
     "text": [
      "min_mask_size:107202.0\n",
      "106231.5\n",
      "min_mask_size:94140.0\n",
      "93192.0\n"
     ]
    },
    {
     "name": "stderr",
     "output_type": "stream",
     "text": [
      "image 1/1 E:\\stable-diffusion\\sd-webui-aki-v4.1\\outputs\\txt2img-images2\\00108-3066871367-dutch angle,sitting, blush,smile,black_hair,green_hair,footwear,legwear,_1girl,solo,dress,skirt, road,kneeling_,.png: 640x384 1 person, 87.5ms\n",
      "Speed: 0.9ms preprocess, 87.5ms inference, 11.0ms postprocess per image at shape (1, 3, 640, 640)\n",
      "\n",
      "image 1/1 E:\\stable-diffusion\\sd-webui-aki-v4.1\\outputs\\txt2img-images2\\00109-3066871368-dutch angle,sitting, blush,smile,black_hair,green_hair,footwear,legwear,_1girl,solo,dress,skirt, road,kneeling_,.png: 640x384 1 person, 90.4ms\n",
      "Speed: 0.9ms preprocess, 90.4ms inference, 8.7ms postprocess per image at shape (1, 3, 640, 640)\n",
      "\n"
     ]
    },
    {
     "name": "stdout",
     "output_type": "stream",
     "text": [
      "min_mask_size:110800.0\n",
      "109933.5\n",
      "min_mask_size:107779.0\n",
      "105205.5\n"
     ]
    },
    {
     "name": "stderr",
     "output_type": "stream",
     "text": [
      "image 1/1 E:\\stable-diffusion\\sd-webui-aki-v4.1\\outputs\\txt2img-images2\\00110-3066871369-dutch angle,sitting, blush,smile,black_hair,green_hair,footwear,legwear,_1girl,solo,dress,skirt, road,kneeling_,.png: 640x384 1 person, 89.7ms\n",
      "Speed: 1.0ms preprocess, 89.7ms inference, 9.8ms postprocess per image at shape (1, 3, 640, 640)\n",
      "\n",
      "image 1/1 E:\\stable-diffusion\\sd-webui-aki-v4.1\\outputs\\txt2img-images2\\00111-1131222143-dutch angle,sitting, blush,smile,black_hair,brown_hair,footwear,legwear,_1girl,solo,dress,skirt, road,kneeling_,.png: 640x384 1 person, 81.9ms\n",
      "Speed: 0.0ms preprocess, 81.9ms inference, 11.3ms postprocess per image at shape (1, 3, 640, 640)\n",
      "\n"
     ]
    },
    {
     "name": "stdout",
     "output_type": "stream",
     "text": [
      "min_mask_size:91359.0\n",
      "83093.5\n",
      "min_mask_size:107428.0\n",
      "106585.5\n"
     ]
    },
    {
     "name": "stderr",
     "output_type": "stream",
     "text": [
      "image 1/1 E:\\stable-diffusion\\sd-webui-aki-v4.1\\outputs\\txt2img-images2\\00112-1131222144-dutch angle,sitting, blush,smile,black_hair,brown_hair,footwear,legwear,_1girl,solo,dress,skirt, road,kneeling_,.png: 640x384 1 person, 88.1ms\n",
      "Speed: 0.9ms preprocess, 88.1ms inference, 9.3ms postprocess per image at shape (1, 3, 640, 640)\n",
      "\n",
      "image 1/1 E:\\stable-diffusion\\sd-webui-aki-v4.1\\outputs\\txt2img-images2\\00113-1131222145-dutch angle,sitting, blush,smile,black_hair,brown_hair,footwear,legwear,_1girl,solo,dress,skirt, road,kneeling_,.png: 640x384 1 person, 85.9ms\n",
      "Speed: 1.0ms preprocess, 85.9ms inference, 10.9ms postprocess per image at shape (1, 3, 640, 640)\n",
      "\n"
     ]
    },
    {
     "name": "stdout",
     "output_type": "stream",
     "text": [
      "min_mask_size:126320.0\n",
      "125648.5\n",
      "min_mask_size:82408.0\n",
      "81659.5\n"
     ]
    },
    {
     "name": "stderr",
     "output_type": "stream",
     "text": [
      "image 1/1 E:\\stable-diffusion\\sd-webui-aki-v4.1\\outputs\\txt2img-images2\\00114-1131222146-dutch angle,sitting, blush,smile,black_hair,brown_hair,footwear,legwear,_1girl,solo,dress,skirt, road,kneeling_,.png: 640x384 1 person, 83.7ms\n",
      "Speed: 0.9ms preprocess, 83.7ms inference, 9.4ms postprocess per image at shape (1, 3, 640, 640)\n",
      "\n",
      "image 1/1 E:\\stable-diffusion\\sd-webui-aki-v4.1\\outputs\\txt2img-images2\\00115-1440858101-dutch angle,sitting, blush,smile,black_hair,black_hair,footwear,legwear,_1girl,solo,dress,skirt, road,kneeling_,.png: 640x384 1 person, 85.7ms\n",
      "Speed: 1.5ms preprocess, 85.7ms inference, 9.9ms postprocess per image at shape (1, 3, 640, 640)\n",
      "\n"
     ]
    },
    {
     "name": "stdout",
     "output_type": "stream",
     "text": [
      "min_mask_size:102629.0\n",
      "101837.0\n",
      "min_mask_size:111839.0\n",
      "110798.0\n"
     ]
    },
    {
     "name": "stderr",
     "output_type": "stream",
     "text": [
      "image 1/1 E:\\stable-diffusion\\sd-webui-aki-v4.1\\outputs\\txt2img-images2\\00116-1440858102-dutch angle,sitting, blush,smile,black_hair,black_hair,footwear,legwear,_1girl,solo,dress,skirt, road,kneeling_,.png: 640x384 1 person, 84.2ms\n",
      "Speed: 1.6ms preprocess, 84.2ms inference, 8.9ms postprocess per image at shape (1, 3, 640, 640)\n",
      "\n",
      "image 1/1 E:\\stable-diffusion\\sd-webui-aki-v4.1\\outputs\\txt2img-images2\\00117-1440858103-dutch angle,sitting, blush,smile,black_hair,black_hair,footwear,legwear,_1girl,solo,dress,skirt, road,kneeling_,.png: 640x384 1 person, 88.3ms\n",
      "Speed: 1.0ms preprocess, 88.3ms inference, 8.7ms postprocess per image at shape (1, 3, 640, 640)\n",
      "\n"
     ]
    },
    {
     "name": "stdout",
     "output_type": "stream",
     "text": [
      "min_mask_size:84766.0\n",
      "83919.5\n",
      "min_mask_size:111482.0\n",
      "110392.0\n"
     ]
    },
    {
     "name": "stderr",
     "output_type": "stream",
     "text": [
      "image 1/1 E:\\stable-diffusion\\sd-webui-aki-v4.1\\outputs\\txt2img-images2\\00118-1440858104-dutch angle,sitting, blush,smile,black_hair,black_hair,footwear,legwear,_1girl,solo,dress,skirt, road,kneeling_,.png: 640x384 1 person, 85.1ms\n",
      "Speed: 1.0ms preprocess, 85.1ms inference, 8.8ms postprocess per image at shape (1, 3, 640, 640)\n",
      "\n",
      "image 1/1 E:\\stable-diffusion\\sd-webui-aki-v4.1\\outputs\\txt2img-images2\\00119-255240382-dutch angle,sitting, blush,smile,black_hair,white_hair,footwear,legwear,_1girl,solo,dress,skirt, road,kneeling_,.png: 640x384 1 person, 84.8ms\n",
      "Speed: 2.0ms preprocess, 84.8ms inference, 9.4ms postprocess per image at shape (1, 3, 640, 640)\n",
      "\n"
     ]
    },
    {
     "name": "stdout",
     "output_type": "stream",
     "text": [
      "min_mask_size:90585.0\n",
      "89509.0\n",
      "min_mask_size:113591.0\n",
      "112292.5\n"
     ]
    },
    {
     "name": "stderr",
     "output_type": "stream",
     "text": [
      "image 1/1 E:\\stable-diffusion\\sd-webui-aki-v4.1\\outputs\\txt2img-images2\\00120-255240383-dutch angle,sitting, blush,smile,black_hair,white_hair,footwear,legwear,_1girl,solo,dress,skirt, road,kneeling_,.png: 640x384 1 person, 86.7ms\n",
      "Speed: 0.7ms preprocess, 86.7ms inference, 9.6ms postprocess per image at shape (1, 3, 640, 640)\n",
      "\n",
      "image 1/1 E:\\stable-diffusion\\sd-webui-aki-v4.1\\outputs\\txt2img-images2\\00121-255240384-dutch angle,sitting, blush,smile,black_hair,white_hair,footwear,legwear,_1girl,solo,dress,skirt, road,kneeling_,.png: 640x384 1 person, 85.7ms\n",
      "Speed: 1.0ms preprocess, 85.7ms inference, 8.7ms postprocess per image at shape (1, 3, 640, 640)\n",
      "\n"
     ]
    },
    {
     "name": "stdout",
     "output_type": "stream",
     "text": [
      "min_mask_size:87356.0\n",
      "86584.5\n",
      "min_mask_size:112401.0\n",
      "111572.0\n"
     ]
    },
    {
     "name": "stderr",
     "output_type": "stream",
     "text": [
      "image 1/1 E:\\stable-diffusion\\sd-webui-aki-v4.1\\outputs\\txt2img-images2\\00122-255240385-dutch angle,sitting, blush,smile,black_hair,white_hair,footwear,legwear,_1girl,solo,dress,skirt, road,kneeling_,.png: 640x384 1 person, 78.8ms\n",
      "Speed: 2.1ms preprocess, 78.8ms inference, 7.5ms postprocess per image at shape (1, 3, 640, 640)\n",
      "\n",
      "image 1/1 E:\\stable-diffusion\\sd-webui-aki-v4.1\\outputs\\txt2img-images2\\00123-2811911395-dutch angle,sitting, blush,smile,black_hair,red_hair,footwear,legwear,_1girl,solo,dress,skirt, road,kneeling_,.png: 640x384 1 person, 89.6ms\n",
      "Speed: 1.0ms preprocess, 89.6ms inference, 10.3ms postprocess per image at shape (1, 3, 640, 640)\n",
      "\n"
     ]
    },
    {
     "name": "stdout",
     "output_type": "stream",
     "text": [
      "min_mask_size:120004.0\n",
      "119565.0\n",
      "min_mask_size:92377.0\n",
      "91182.0\n"
     ]
    },
    {
     "name": "stderr",
     "output_type": "stream",
     "text": [
      "image 1/1 E:\\stable-diffusion\\sd-webui-aki-v4.1\\outputs\\txt2img-images2\\00124-2811911396-dutch angle,sitting, blush,smile,black_hair,red_hair,footwear,legwear,_1girl,solo,dress,skirt, road,kneeling_,.png: 640x384 1 person, 87.2ms\n",
      "Speed: 1.1ms preprocess, 87.2ms inference, 8.6ms postprocess per image at shape (1, 3, 640, 640)\n",
      "\n",
      "image 1/1 E:\\stable-diffusion\\sd-webui-aki-v4.1\\outputs\\txt2img-images2\\00125-2811911397-dutch angle,sitting, blush,smile,black_hair,red_hair,footwear,legwear,_1girl,solo,dress,skirt, road,kneeling_,.png: 640x384 1 person, 89.4ms\n",
      "Speed: 1.0ms preprocess, 89.4ms inference, 9.3ms postprocess per image at shape (1, 3, 640, 640)\n",
      "\n"
     ]
    },
    {
     "name": "stdout",
     "output_type": "stream",
     "text": [
      "min_mask_size:80793.0\n",
      "80167.5\n",
      "min_mask_size:106238.0\n",
      "105656.5\n"
     ]
    },
    {
     "name": "stderr",
     "output_type": "stream",
     "text": [
      "image 1/1 E:\\stable-diffusion\\sd-webui-aki-v4.1\\outputs\\txt2img-images2\\00126-2811911398-dutch angle,sitting, blush,smile,black_hair,red_hair,footwear,legwear,_1girl,solo,dress,skirt, road,kneeling_,.png: 640x384 1 person, 90.1ms\n",
      "Speed: 1.1ms preprocess, 90.1ms inference, 10.0ms postprocess per image at shape (1, 3, 640, 640)\n",
      "\n",
      "image 1/1 E:\\stable-diffusion\\sd-webui-aki-v4.1\\outputs\\txt2img-images2\\00127-1759758082-dutch angle,sitting, blush,smile,black_hair,blue_hair,footwear,legwear,_1girl,solo,dress,skirt, road,kneeling_,.png: 640x384 1 person, 92.8ms\n",
      "Speed: 2.0ms preprocess, 92.8ms inference, 10.8ms postprocess per image at shape (1, 3, 640, 640)\n",
      "\n"
     ]
    },
    {
     "name": "stdout",
     "output_type": "stream",
     "text": [
      "min_mask_size:115847.0\n",
      "114669.0\n",
      "min_mask_size:92682.0\n",
      "91771.5\n"
     ]
    },
    {
     "name": "stderr",
     "output_type": "stream",
     "text": [
      "image 1/1 E:\\stable-diffusion\\sd-webui-aki-v4.1\\outputs\\txt2img-images2\\00128-1759758083-dutch angle,sitting, blush,smile,black_hair,blue_hair,footwear,legwear,_1girl,solo,dress,skirt, road,kneeling_,.png: 640x384 1 person, 44.9ms\n",
      "Speed: 1.0ms preprocess, 44.9ms inference, 3.0ms postprocess per image at shape (1, 3, 640, 640)\n",
      "\n",
      "image 1/1 E:\\stable-diffusion\\sd-webui-aki-v4.1\\outputs\\txt2img-images2\\00129-1759758084-dutch angle,sitting, blush,smile,black_hair,blue_hair,footwear,legwear,_1girl,solo,dress,skirt, road,kneeling_,.png: 640x384 1 person, 28.5ms\n",
      "Speed: 1.1ms preprocess, 28.5ms inference, 5.0ms postprocess per image at shape (1, 3, 640, 640)\n",
      "\n",
      "image 1/1 E:\\stable-diffusion\\sd-webui-aki-v4.1\\outputs\\txt2img-images2\\00130-1759758085-dutch angle,sitting, blush,smile,black_hair,blue_hair,footwear,legwear,_1girl,solo,dress,skirt, road,kneeling_,.png: 640x384 1 person, 55.1ms\n",
      "Speed: 1.0ms preprocess, 55.1ms inference, 4.1ms postprocess per image at shape (1, 3, 640, 640)\n",
      "\n"
     ]
    },
    {
     "name": "stdout",
     "output_type": "stream",
     "text": [
      "min_mask_size:113548.0\n",
      "112654.0\n",
      "min_mask_size:96058.0\n",
      "95217.5\n",
      "min_mask_size:105207.0\n",
      "104420.0\n"
     ]
    },
    {
     "name": "stderr",
     "output_type": "stream",
     "text": [
      "image 1/1 E:\\stable-diffusion\\sd-webui-aki-v4.1\\outputs\\txt2img-images2\\00131-1914989389-dutch angle,sitting, blush,smile,black_hair,green_hair,footwear,legwear,_1girl,solo,dress,skirt, road,kneeling_,.png: 640x384 1 person, 53.6ms\n",
      "Speed: 0.0ms preprocess, 53.6ms inference, 5.5ms postprocess per image at shape (1, 3, 640, 640)\n",
      "\n",
      "image 1/1 E:\\stable-diffusion\\sd-webui-aki-v4.1\\outputs\\txt2img-images2\\00132-1914989390-dutch angle,sitting, blush,smile,black_hair,green_hair,footwear,legwear,_1girl,solo,dress,skirt, road,kneeling_,.png: 640x384 1 person, 29.7ms\n",
      "Speed: 1.0ms preprocess, 29.7ms inference, 1.9ms postprocess per image at shape (1, 3, 640, 640)\n",
      "\n",
      "image 1/1 E:\\stable-diffusion\\sd-webui-aki-v4.1\\outputs\\txt2img-images2\\00133-1914989391-dutch angle,sitting, blush,smile,black_hair,green_hair,footwear,legwear,_1girl,solo,dress,skirt, road,kneeling_,.png: 640x384 1 person, 29.3ms\n",
      "Speed: 1.0ms preprocess, 29.3ms inference, 3.5ms postprocess per image at shape (1, 3, 640, 640)\n",
      "\n",
      "image 1/1 E:\\stable-diffusion\\sd-webui-aki-v4.1\\outputs\\txt2img-images2\\00134-1914989392-dutch angle,sitting, blush,smile,black_hair,green_hair,footwear,legwear,_1girl,solo,dress,skirt, road,kneeling_,.png: 640x384 1 person, 51.6ms\n"
     ]
    },
    {
     "name": "stdout",
     "output_type": "stream",
     "text": [
      "min_mask_size:87930.0\n",
      "86648.0\n",
      "min_mask_size:109838.0\n",
      "108677.5\n",
      "min_mask_size:108445.0\n",
      "107632.0\n"
     ]
    },
    {
     "name": "stderr",
     "output_type": "stream",
     "text": [
      "Speed: 0.0ms preprocess, 51.6ms inference, 4.6ms postprocess per image at shape (1, 3, 640, 640)\n",
      "\n",
      "image 1/1 E:\\stable-diffusion\\sd-webui-aki-v4.1\\outputs\\txt2img-images2\\00135-1216805642-dutch angle,sitting, blush,smile,black_hair,brown_hair,footwear,legwear,_1girl,solo,dress,skirt, road,kneeling_,.png: 640x384 1 person, 69.3ms\n",
      "Speed: 1.0ms preprocess, 69.3ms inference, 1.0ms postprocess per image at shape (1, 3, 640, 640)\n",
      "\n"
     ]
    },
    {
     "name": "stdout",
     "output_type": "stream",
     "text": [
      "min_mask_size:138383.0\n",
      "135905.5\n",
      "min_mask_size:128050.0\n",
      "126697.0\n"
     ]
    },
    {
     "name": "stderr",
     "output_type": "stream",
     "text": [
      "image 1/1 E:\\stable-diffusion\\sd-webui-aki-v4.1\\outputs\\txt2img-images2\\00136-1216805643-dutch angle,sitting, blush,smile,black_hair,brown_hair,footwear,legwear,_1girl,solo,dress,skirt, road,kneeling_,.png: 640x384 1 person, 90.2ms\n",
      "Speed: 2.0ms preprocess, 90.2ms inference, 1.5ms postprocess per image at shape (1, 3, 640, 640)\n",
      "\n",
      "image 1/1 E:\\stable-diffusion\\sd-webui-aki-v4.1\\outputs\\txt2img-images2\\00137-1216805644-dutch angle,sitting, blush,smile,black_hair,brown_hair,footwear,legwear,_1girl,solo,dress,skirt, road,kneeling_,.png: 640x384 1 person, 68.2ms\n",
      "Speed: 0.9ms preprocess, 68.2ms inference, 6.3ms postprocess per image at shape (1, 3, 640, 640)\n",
      "\n"
     ]
    },
    {
     "name": "stdout",
     "output_type": "stream",
     "text": [
      "min_mask_size:121206.0\n",
      "120371.5\n",
      "min_mask_size:103549.0\n",
      "102595.5\n"
     ]
    },
    {
     "name": "stderr",
     "output_type": "stream",
     "text": [
      "image 1/1 E:\\stable-diffusion\\sd-webui-aki-v4.1\\outputs\\txt2img-images2\\00138-1216805645-dutch angle,sitting, blush,smile,black_hair,brown_hair,footwear,legwear,_1girl,solo,dress,skirt, road,kneeling_,.png: 640x384 1 person, 85.6ms\n",
      "Speed: 1.1ms preprocess, 85.6ms inference, 8.6ms postprocess per image at shape (1, 3, 640, 640)\n",
      "\n",
      "image 1/1 E:\\stable-diffusion\\sd-webui-aki-v4.1\\outputs\\txt2img-images2\\00139-3487320220-dutch angle,sitting, blush,smile,black_hair,black_hair,footwear,legwear,_1girl,solo,dress,skirt, road,kneeling_,.png: 640x384 1 person, 87.2ms\n",
      "Speed: 2.0ms preprocess, 87.2ms inference, 9.6ms postprocess per image at shape (1, 3, 640, 640)\n",
      "\n"
     ]
    },
    {
     "name": "stdout",
     "output_type": "stream",
     "text": [
      "min_mask_size:116889.0\n",
      "116074.5\n",
      "min_mask_size:124446.0\n",
      "123083.5\n"
     ]
    },
    {
     "name": "stderr",
     "output_type": "stream",
     "text": [
      "image 1/1 E:\\stable-diffusion\\sd-webui-aki-v4.1\\outputs\\txt2img-images2\\00140-3487320221-dutch angle,sitting, blush,smile,black_hair,black_hair,footwear,legwear,_1girl,solo,dress,skirt, road,kneeling_,.png: 640x384 1 person, 86.0ms\n",
      "Speed: 1.0ms preprocess, 86.0ms inference, 9.0ms postprocess per image at shape (1, 3, 640, 640)\n",
      "\n",
      "image 1/1 E:\\stable-diffusion\\sd-webui-aki-v4.1\\outputs\\txt2img-images2\\00141-3487320222-dutch angle,sitting, blush,smile,black_hair,black_hair,footwear,legwear,_1girl,solo,dress,skirt, road,kneeling_,.png: 640x384 1 person, 81.8ms\n",
      "Speed: 1.1ms preprocess, 81.8ms inference, 9.4ms postprocess per image at shape (1, 3, 640, 640)\n",
      "\n"
     ]
    },
    {
     "name": "stdout",
     "output_type": "stream",
     "text": [
      "min_mask_size:105233.0\n",
      "98928.5\n",
      "min_mask_size:118237.0\n",
      "119359.0\n"
     ]
    },
    {
     "name": "stderr",
     "output_type": "stream",
     "text": [
      "image 1/1 E:\\stable-diffusion\\sd-webui-aki-v4.1\\outputs\\txt2img-images2\\00142-3487320223-dutch angle,sitting, blush,smile,black_hair,black_hair,footwear,legwear,_1girl,solo,dress,skirt, road,kneeling_,.png: 640x384 1 person, 82.9ms\n",
      "Speed: 0.3ms preprocess, 82.9ms inference, 7.9ms postprocess per image at shape (1, 3, 640, 640)\n",
      "\n",
      "image 1/1 E:\\stable-diffusion\\sd-webui-aki-v4.1\\outputs\\txt2img-images2\\00143-1580863918-dutch angle,sitting, blush,smile,black_hair,white_hair,footwear,legwear,_1girl,solo,dress,skirt, road,kneeling_,.png: 640x384 1 person, 85.0ms\n",
      "Speed: 1.0ms preprocess, 85.0ms inference, 9.6ms postprocess per image at shape (1, 3, 640, 640)\n",
      "\n"
     ]
    },
    {
     "name": "stdout",
     "output_type": "stream",
     "text": [
      "min_mask_size:84358.0\n",
      "83790.5\n",
      "min_mask_size:105739.0\n",
      "104891.0\n"
     ]
    },
    {
     "name": "stderr",
     "output_type": "stream",
     "text": [
      "image 1/1 E:\\stable-diffusion\\sd-webui-aki-v4.1\\outputs\\txt2img-images2\\00144-1580863919-dutch angle,sitting, blush,smile,black_hair,white_hair,footwear,legwear,_1girl,solo,dress,skirt, road,kneeling_,.png: 640x384 1 person, 83.1ms\n",
      "Speed: 1.2ms preprocess, 83.1ms inference, 9.6ms postprocess per image at shape (1, 3, 640, 640)\n",
      "\n",
      "image 1/1 E:\\stable-diffusion\\sd-webui-aki-v4.1\\outputs\\txt2img-images2\\00145-1580863920-dutch angle,sitting, blush,smile,black_hair,white_hair,footwear,legwear,_1girl,solo,dress,skirt, road,kneeling_,.png: 640x384 1 person, 86.0ms\n",
      "Speed: 2.0ms preprocess, 86.0ms inference, 8.6ms postprocess per image at shape (1, 3, 640, 640)\n",
      "\n"
     ]
    },
    {
     "name": "stdout",
     "output_type": "stream",
     "text": [
      "min_mask_size:116715.0\n",
      "115833.0\n",
      "min_mask_size:113171.0\n",
      "112024.5\n"
     ]
    },
    {
     "name": "stderr",
     "output_type": "stream",
     "text": [
      "image 1/1 E:\\stable-diffusion\\sd-webui-aki-v4.1\\outputs\\txt2img-images2\\00146-1580863921-dutch angle,sitting, blush,smile,black_hair,white_hair,footwear,legwear,_1girl,solo,dress,skirt, road,kneeling_,.png: 640x384 1 person, 82.4ms\n",
      "Speed: 2.0ms preprocess, 82.4ms inference, 8.5ms postprocess per image at shape (1, 3, 640, 640)\n",
      "\n",
      "image 1/1 E:\\stable-diffusion\\sd-webui-aki-v4.1\\outputs\\txt2img-images2\\00147-56027937-dutch angle,sitting, blush,smile,black_hair,red_hair,footwear,legwear,_1girl,solo,dress,skirt, road,kneeling_,.png: 640x384 1 person, 81.8ms\n",
      "Speed: 1.1ms preprocess, 81.8ms inference, 8.0ms postprocess per image at shape (1, 3, 640, 640)\n",
      "\n"
     ]
    },
    {
     "name": "stdout",
     "output_type": "stream",
     "text": [
      "min_mask_size:118436.0\n",
      "116539.5\n",
      "min_mask_size:89621.0\n",
      "88790.5\n"
     ]
    },
    {
     "name": "stderr",
     "output_type": "stream",
     "text": [
      "image 1/1 E:\\stable-diffusion\\sd-webui-aki-v4.1\\outputs\\txt2img-images2\\00148-56027938-dutch angle,sitting, blush,smile,black_hair,red_hair,footwear,legwear,_1girl,solo,dress,skirt, road,kneeling_,.png: 640x384 1 person, 80.1ms\n",
      "Speed: 1.1ms preprocess, 80.1ms inference, 10.3ms postprocess per image at shape (1, 3, 640, 640)\n",
      "\n",
      "image 1/1 E:\\stable-diffusion\\sd-webui-aki-v4.1\\outputs\\txt2img-images2\\00149-56027939-dutch angle,sitting, blush,smile,black_hair,red_hair,footwear,legwear,_1girl,solo,dress,skirt, road,kneeling_,.png: 640x384 1 person, 81.2ms\n",
      "Speed: 1.0ms preprocess, 81.2ms inference, 8.8ms postprocess per image at shape (1, 3, 640, 640)\n",
      "\n"
     ]
    },
    {
     "name": "stdout",
     "output_type": "stream",
     "text": [
      "min_mask_size:100778.0\n",
      "101355.0\n",
      "min_mask_size:108331.0\n",
      "107964.0\n"
     ]
    },
    {
     "name": "stderr",
     "output_type": "stream",
     "text": [
      "image 1/1 E:\\stable-diffusion\\sd-webui-aki-v4.1\\outputs\\txt2img-images2\\00150-56027940-dutch angle,sitting, blush,smile,black_hair,red_hair,footwear,legwear,_1girl,solo,dress,skirt, road,kneeling_,.png: 640x384 1 person, 77.6ms\n",
      "Speed: 1.0ms preprocess, 77.6ms inference, 8.1ms postprocess per image at shape (1, 3, 640, 640)\n",
      "\n",
      "image 1/1 E:\\stable-diffusion\\sd-webui-aki-v4.1\\outputs\\txt2img-images2\\00151-1007481651-dutch angle,sitting, blush,smile,black_hair,blue_hair,footwear,legwear,_1girl,solo,dress,skirt, road,kneeling_,.png: 640x384 1 person, 81.3ms\n",
      "Speed: 1.0ms preprocess, 81.3ms inference, 9.0ms postprocess per image at shape (1, 3, 640, 640)\n",
      "\n"
     ]
    },
    {
     "name": "stdout",
     "output_type": "stream",
     "text": [
      "min_mask_size:102573.0\n",
      "101754.0\n",
      "min_mask_size:95563.0\n",
      "94815.0\n"
     ]
    },
    {
     "name": "stderr",
     "output_type": "stream",
     "text": [
      "image 1/1 E:\\stable-diffusion\\sd-webui-aki-v4.1\\outputs\\txt2img-images2\\00152-1007481652-dutch angle,sitting, blush,smile,black_hair,blue_hair,footwear,legwear,_1girl,solo,dress,skirt, road,kneeling_,.png: 640x384 1 person, 82.2ms\n",
      "Speed: 1.0ms preprocess, 82.2ms inference, 8.6ms postprocess per image at shape (1, 3, 640, 640)\n",
      "\n",
      "image 1/1 E:\\stable-diffusion\\sd-webui-aki-v4.1\\outputs\\txt2img-images2\\00153-1007481653-dutch angle,sitting, blush,smile,black_hair,blue_hair,footwear,legwear,_1girl,solo,dress,skirt, road,kneeling_,.png: 640x384 1 person, 84.0ms\n",
      "Speed: 1.1ms preprocess, 84.0ms inference, 9.9ms postprocess per image at shape (1, 3, 640, 640)\n",
      "\n"
     ]
    },
    {
     "name": "stdout",
     "output_type": "stream",
     "text": [
      "min_mask_size:103068.0\n",
      "102084.0\n",
      "min_mask_size:104533.0\n",
      "103455.5\n"
     ]
    },
    {
     "name": "stderr",
     "output_type": "stream",
     "text": [
      "image 1/1 E:\\stable-diffusion\\sd-webui-aki-v4.1\\outputs\\txt2img-images2\\00154-1007481654-dutch angle,sitting, blush,smile,black_hair,blue_hair,footwear,legwear,_1girl,solo,dress,skirt, road,kneeling_,.png: 640x384 1 person, 81.3ms\n",
      "Speed: 0.0ms preprocess, 81.3ms inference, 9.1ms postprocess per image at shape (1, 3, 640, 640)\n",
      "\n",
      "image 1/1 E:\\stable-diffusion\\sd-webui-aki-v4.1\\outputs\\txt2img-images2\\00155-409216970-dutch angle,sitting, blush,smile,black_hair,green_hair,footwear,legwear,_1girl,solo,dress,skirt, road,kneeling_,.png: 640x384 1 person, 84.0ms\n",
      "Speed: 1.0ms preprocess, 84.0ms inference, 9.8ms postprocess per image at shape (1, 3, 640, 640)\n",
      "\n"
     ]
    },
    {
     "name": "stdout",
     "output_type": "stream",
     "text": [
      "min_mask_size:114363.0\n",
      "113558.5\n",
      "min_mask_size:103137.0\n",
      "102380.0\n"
     ]
    },
    {
     "name": "stderr",
     "output_type": "stream",
     "text": [
      "image 1/1 E:\\stable-diffusion\\sd-webui-aki-v4.1\\outputs\\txt2img-images2\\00156-409216971-dutch angle,sitting, blush,smile,black_hair,green_hair,footwear,legwear,_1girl,solo,dress,skirt, road,kneeling_,.png: 640x384 1 person, 80.9ms\n",
      "Speed: 2.0ms preprocess, 80.9ms inference, 9.5ms postprocess per image at shape (1, 3, 640, 640)\n",
      "\n",
      "image 1/1 E:\\stable-diffusion\\sd-webui-aki-v4.1\\outputs\\txt2img-images2\\00157-409216972-dutch angle,sitting, blush,smile,black_hair,green_hair,footwear,legwear,_1girl,solo,dress,skirt, road,kneeling_,.png: 640x384 1 person, 84.7ms\n",
      "Speed: 2.2ms preprocess, 84.7ms inference, 9.6ms postprocess per image at shape (1, 3, 640, 640)\n",
      "\n"
     ]
    },
    {
     "name": "stdout",
     "output_type": "stream",
     "text": [
      "min_mask_size:93344.0\n",
      "92724.0\n",
      "min_mask_size:121510.0\n",
      "120638.0\n"
     ]
    },
    {
     "name": "stderr",
     "output_type": "stream",
     "text": [
      "image 1/1 E:\\stable-diffusion\\sd-webui-aki-v4.1\\outputs\\txt2img-images2\\00158-409216973-dutch angle,sitting, blush,smile,black_hair,green_hair,footwear,legwear,_1girl,solo,dress,skirt, road,kneeling_,.png: 640x384 1 person, 81.0ms\n",
      "Speed: 1.9ms preprocess, 81.0ms inference, 10.7ms postprocess per image at shape (1, 3, 640, 640)\n",
      "\n",
      "image 1/1 E:\\stable-diffusion\\sd-webui-aki-v4.1\\outputs\\txt2img-images2\\00159-1471603641-dutch angle,sitting, blush,smile,black_hair,brown_hair,footwear,legwear,_1girl,solo,dress,skirt, road,kneeling_,.png: 640x384 1 person, 84.1ms\n",
      "Speed: 0.0ms preprocess, 84.1ms inference, 10.0ms postprocess per image at shape (1, 3, 640, 640)\n",
      "\n"
     ]
    },
    {
     "name": "stdout",
     "output_type": "stream",
     "text": [
      "min_mask_size:101775.0\n",
      "100958.0\n",
      "min_mask_size:98666.0\n",
      "97723.0\n"
     ]
    },
    {
     "name": "stderr",
     "output_type": "stream",
     "text": [
      "image 1/1 E:\\stable-diffusion\\sd-webui-aki-v4.1\\outputs\\txt2img-images2\\00160-1471603642-dutch angle,sitting, blush,smile,black_hair,brown_hair,footwear,legwear,_1girl,solo,dress,skirt, road,kneeling_,.png: 640x384 1 person, 85.8ms\n",
      "Speed: 1.7ms preprocess, 85.8ms inference, 10.1ms postprocess per image at shape (1, 3, 640, 640)\n",
      "\n",
      "image 1/1 E:\\stable-diffusion\\sd-webui-aki-v4.1\\outputs\\txt2img-images2\\00161-1471603643-dutch angle,sitting, blush,smile,black_hair,brown_hair,footwear,legwear,_1girl,solo,dress,skirt, road,kneeling_,.png: 640x384 1 person, 83.4ms\n",
      "Speed: 1.0ms preprocess, 83.4ms inference, 9.1ms postprocess per image at shape (1, 3, 640, 640)\n",
      "\n"
     ]
    },
    {
     "name": "stdout",
     "output_type": "stream",
     "text": [
      "min_mask_size:108294.0\n",
      "107557.0\n",
      "min_mask_size:117512.0\n",
      "116711.0\n"
     ]
    },
    {
     "name": "stderr",
     "output_type": "stream",
     "text": [
      "image 1/1 E:\\stable-diffusion\\sd-webui-aki-v4.1\\outputs\\txt2img-images2\\00162-1471603644-dutch angle,sitting, blush,smile,black_hair,brown_hair,footwear,legwear,_1girl,solo,dress,skirt, road,kneeling_,.png: 640x384 1 person, 80.7ms\n",
      "Speed: 1.7ms preprocess, 80.7ms inference, 9.8ms postprocess per image at shape (1, 3, 640, 640)\n",
      "\n",
      "image 1/1 E:\\stable-diffusion\\sd-webui-aki-v4.1\\outputs\\txt2img-images2\\00163-1936356913-dutch angle,sitting, blush,smile,black_hair,black_hair,footwear,legwear,_1girl,solo,dress,skirt, road,kneeling_,.png: 640x384 1 person, 83.8ms\n",
      "Speed: 1.0ms preprocess, 83.8ms inference, 9.7ms postprocess per image at shape (1, 3, 640, 640)\n",
      "\n"
     ]
    },
    {
     "name": "stdout",
     "output_type": "stream",
     "text": [
      "min_mask_size:112409.0\n",
      "109830.5\n",
      "min_mask_size:94104.0\n",
      "93215.0\n"
     ]
    },
    {
     "name": "stderr",
     "output_type": "stream",
     "text": [
      "image 1/1 E:\\stable-diffusion\\sd-webui-aki-v4.1\\outputs\\txt2img-images2\\00164-1936356914-dutch angle,sitting, blush,smile,black_hair,black_hair,footwear,legwear,_1girl,solo,dress,skirt, road,kneeling_,.png: 640x384 1 person, 70.2ms\n",
      "Speed: 0.6ms preprocess, 70.2ms inference, 10.8ms postprocess per image at shape (1, 3, 640, 640)\n",
      "\n",
      "image 1/1 E:\\stable-diffusion\\sd-webui-aki-v4.1\\outputs\\txt2img-images2\\00165-1936356915-dutch angle,sitting, blush,smile,black_hair,black_hair,footwear,legwear,_1girl,solo,dress,skirt, road,kneeling_,.png: 640x384 1 person, 88.1ms\n",
      "Speed: 2.0ms preprocess, 88.1ms inference, 3.0ms postprocess per image at shape (1, 3, 640, 640)\n",
      "\n",
      "image 1/1 E:\\stable-diffusion\\sd-webui-aki-v4.1\\outputs\\txt2img-images2\\00166-1936356916-dutch angle,sitting, blush,smile,black_hair,black_hair,footwear,legwear,_1girl,solo,dress,skirt, road,kneeling_,.png: 640x384 1 person, 28.0ms\n",
      "Speed: 1.0ms preprocess, 28.0ms inference, 2.0ms postprocess per image at shape (1, 3, 640, 640)\n",
      "\n"
     ]
    },
    {
     "name": "stdout",
     "output_type": "stream",
     "text": [
      "min_mask_size:125511.0\n",
      "124363.5\n",
      "min_mask_size:86162.0\n",
      "85288.0\n",
      "min_mask_size:105310.0\n",
      "104549.0\n"
     ]
    },
    {
     "name": "stderr",
     "output_type": "stream",
     "text": [
      "image 1/1 E:\\stable-diffusion\\sd-webui-aki-v4.1\\outputs\\txt2img-images2\\00167-4055706738-dutch angle,sitting, blush,smile,black_hair,white_hair,footwear,legwear,_1girl,solo,dress,skirt, road,kneeling_,.png: 640x384 1 person, 29.3ms\n",
      "Speed: 1.0ms preprocess, 29.3ms inference, 2.0ms postprocess per image at shape (1, 3, 640, 640)\n",
      "\n",
      "image 1/1 E:\\stable-diffusion\\sd-webui-aki-v4.1\\outputs\\txt2img-images2\\00168-4055706739-dutch angle,sitting, blush,smile,black_hair,white_hair,footwear,legwear,_1girl,solo,dress,skirt, road,kneeling_,.png: 640x384 1 person, 86.1ms\n",
      "Speed: 1.0ms preprocess, 86.1ms inference, 9.3ms postprocess per image at shape (1, 3, 640, 640)\n",
      "\n"
     ]
    },
    {
     "name": "stdout",
     "output_type": "stream",
     "text": [
      "min_mask_size:98897.0\n",
      "97837.0\n",
      "min_mask_size:116986.0\n",
      "115478.5\n"
     ]
    },
    {
     "name": "stderr",
     "output_type": "stream",
     "text": [
      "image 1/1 E:\\stable-diffusion\\sd-webui-aki-v4.1\\outputs\\txt2img-images2\\00169-4055706740-dutch angle,sitting, blush,smile,black_hair,white_hair,footwear,legwear,_1girl,solo,dress,skirt, road,kneeling_,.png: 640x384 1 person, 87.1ms\n",
      "Speed: 1.1ms preprocess, 87.1ms inference, 9.1ms postprocess per image at shape (1, 3, 640, 640)\n",
      "\n",
      "image 1/1 E:\\stable-diffusion\\sd-webui-aki-v4.1\\outputs\\txt2img-images2\\00170-4055706741-dutch angle,sitting, blush,smile,black_hair,white_hair,footwear,legwear,_1girl,solo,dress,skirt, road,kneeling_,.png: 640x384 1 person, 89.1ms\n",
      "Speed: 1.1ms preprocess, 89.1ms inference, 9.3ms postprocess per image at shape (1, 3, 640, 640)\n",
      "\n"
     ]
    },
    {
     "name": "stdout",
     "output_type": "stream",
     "text": [
      "min_mask_size:123718.0\n",
      "122560.0\n",
      "min_mask_size:83829.0\n",
      "83093.0\n"
     ]
    },
    {
     "name": "stderr",
     "output_type": "stream",
     "text": [
      "image 1/1 E:\\stable-diffusion\\sd-webui-aki-v4.1\\outputs\\txt2img-images2\\00171-2151279729-dutch angle,sitting, blush,smile,black_hair,red_hair,footwear,legwear,_1girl,solo,dress,skirt, road,kneeling_,.png: 640x384 1 person, 89.0ms\n",
      "Speed: 0.0ms preprocess, 89.0ms inference, 11.1ms postprocess per image at shape (1, 3, 640, 640)\n",
      "\n",
      "image 1/1 E:\\stable-diffusion\\sd-webui-aki-v4.1\\outputs\\txt2img-images2\\00172-2151279730-dutch angle,sitting, blush,smile,black_hair,red_hair,footwear,legwear,_1girl,solo,dress,skirt, road,kneeling_,.png: 640x384 1 person, 87.0ms\n",
      "Speed: 1.0ms preprocess, 87.0ms inference, 9.8ms postprocess per image at shape (1, 3, 640, 640)\n",
      "\n"
     ]
    },
    {
     "name": "stdout",
     "output_type": "stream",
     "text": [
      "min_mask_size:124006.0\n",
      "124952.0\n",
      "min_mask_size:102637.0\n",
      "101885.0\n"
     ]
    },
    {
     "name": "stderr",
     "output_type": "stream",
     "text": [
      "image 1/1 E:\\stable-diffusion\\sd-webui-aki-v4.1\\outputs\\txt2img-images2\\00173-2151279731-dutch angle,sitting, blush,smile,black_hair,red_hair,footwear,legwear,_1girl,solo,dress,skirt, road,kneeling_,.png: 640x384 1 person, 89.9ms\n",
      "Speed: 1.0ms preprocess, 89.9ms inference, 8.1ms postprocess per image at shape (1, 3, 640, 640)\n",
      "\n",
      "image 1/1 E:\\stable-diffusion\\sd-webui-aki-v4.1\\outputs\\txt2img-images2\\00174-2151279732-dutch angle,sitting, blush,smile,black_hair,red_hair,footwear,legwear,_1girl,solo,dress,skirt, road,kneeling_,.png: 640x384 1 person, 87.4ms\n",
      "Speed: 0.9ms preprocess, 87.4ms inference, 10.5ms postprocess per image at shape (1, 3, 640, 640)\n",
      "\n"
     ]
    },
    {
     "name": "stdout",
     "output_type": "stream",
     "text": [
      "min_mask_size:84374.0\n",
      "83712.0\n",
      "min_mask_size:89819.0\n",
      "88722.0\n"
     ]
    },
    {
     "name": "stderr",
     "output_type": "stream",
     "text": [
      "image 1/1 E:\\stable-diffusion\\sd-webui-aki-v4.1\\outputs\\txt2img-images2\\00175-2579235915-dutch angle,sitting, blush,smile,black_hair,blue_hair,footwear,legwear,_1girl,solo,dress,skirt, road,kneeling_,.png: 640x384 1 person, 88.1ms\n",
      "Speed: 1.5ms preprocess, 88.1ms inference, 10.3ms postprocess per image at shape (1, 3, 640, 640)\n",
      "\n",
      "image 1/1 E:\\stable-diffusion\\sd-webui-aki-v4.1\\outputs\\txt2img-images2\\00176-2579235916-dutch angle,sitting, blush,smile,black_hair,blue_hair,footwear,legwear,_1girl,solo,dress,skirt, road,kneeling_,.png: 640x384 1 person, 88.4ms\n",
      "Speed: 2.0ms preprocess, 88.4ms inference, 9.8ms postprocess per image at shape (1, 3, 640, 640)\n",
      "\n"
     ]
    },
    {
     "name": "stdout",
     "output_type": "stream",
     "text": [
      "min_mask_size:123861.0\n",
      "122035.0\n",
      "min_mask_size:133740.0\n",
      "132804.0\n"
     ]
    },
    {
     "name": "stderr",
     "output_type": "stream",
     "text": [
      "image 1/1 E:\\stable-diffusion\\sd-webui-aki-v4.1\\outputs\\txt2img-images2\\00177-2579235917-dutch angle,sitting, blush,smile,black_hair,blue_hair,footwear,legwear,_1girl,solo,dress,skirt, road,kneeling_,.png: 640x384 1 person, 88.4ms\n",
      "Speed: 2.6ms preprocess, 88.4ms inference, 11.2ms postprocess per image at shape (1, 3, 640, 640)\n",
      "\n",
      "image 1/1 E:\\stable-diffusion\\sd-webui-aki-v4.1\\outputs\\txt2img-images2\\00178-2579235918-dutch angle,sitting, blush,smile,black_hair,blue_hair,footwear,legwear,_1girl,solo,dress,skirt, road,kneeling_,.png: 640x384 1 person, 86.2ms\n",
      "Speed: 1.0ms preprocess, 86.2ms inference, 10.3ms postprocess per image at shape (1, 3, 640, 640)\n",
      "\n"
     ]
    },
    {
     "name": "stdout",
     "output_type": "stream",
     "text": [
      "min_mask_size:105642.0\n",
      "104891.0\n",
      "min_mask_size:126742.0\n",
      "125876.5\n"
     ]
    },
    {
     "name": "stderr",
     "output_type": "stream",
     "text": [
      "image 1/1 E:\\stable-diffusion\\sd-webui-aki-v4.1\\outputs\\txt2img-images2\\00179-3969314733-dutch angle,sitting, blush,smile,black_hair,green_hair,footwear,legwear,_1girl,solo,dress,skirt, road,kneeling_,.png: 640x384 1 person, 87.1ms\n",
      "Speed: 0.6ms preprocess, 87.1ms inference, 9.1ms postprocess per image at shape (1, 3, 640, 640)\n",
      "\n",
      "image 1/1 E:\\stable-diffusion\\sd-webui-aki-v4.1\\outputs\\txt2img-images2\\00180-3969314734-dutch angle,sitting, blush,smile,black_hair,green_hair,footwear,legwear,_1girl,solo,dress,skirt, road,kneeling_,.png: 640x384 1 person, 89.7ms\n",
      "Speed: 1.6ms preprocess, 89.7ms inference, 8.6ms postprocess per image at shape (1, 3, 640, 640)\n",
      "\n"
     ]
    },
    {
     "name": "stdout",
     "output_type": "stream",
     "text": [
      "min_mask_size:96048.0\n",
      "94883.0\n",
      "min_mask_size:128912.0\n",
      "127965.0\n"
     ]
    },
    {
     "name": "stderr",
     "output_type": "stream",
     "text": [
      "image 1/1 E:\\stable-diffusion\\sd-webui-aki-v4.1\\outputs\\txt2img-images2\\00181-3969314735-dutch angle,sitting, blush,smile,black_hair,green_hair,footwear,legwear,_1girl,solo,dress,skirt, road,kneeling_,.png: 640x384 1 person, 82.8ms\n",
      "Speed: 1.0ms preprocess, 82.8ms inference, 10.4ms postprocess per image at shape (1, 3, 640, 640)\n",
      "\n",
      "image 1/1 E:\\stable-diffusion\\sd-webui-aki-v4.1\\outputs\\txt2img-images2\\00182-3969314736-dutch angle,sitting, blush,smile,black_hair,green_hair,footwear,legwear,_1girl,solo,dress,skirt, road,kneeling_,.png: 640x384 1 person, 86.4ms\n",
      "Speed: 1.6ms preprocess, 86.4ms inference, 10.2ms postprocess per image at shape (1, 3, 640, 640)\n",
      "\n"
     ]
    },
    {
     "name": "stdout",
     "output_type": "stream",
     "text": [
      "min_mask_size:112690.0\n",
      "110381.0\n",
      "min_mask_size:79516.0\n",
      "78687.5\n"
     ]
    },
    {
     "name": "stderr",
     "output_type": "stream",
     "text": [
      "image 1/1 E:\\stable-diffusion\\sd-webui-aki-v4.1\\outputs\\txt2img-images2\\00183-1714834149-dutch angle,sitting, blush,smile,black_hair,brown_hair,footwear,legwear,_1girl,solo,dress,skirt, road,kneeling_,.png: 640x384 1 person, 85.3ms\n",
      "Speed: 1.1ms preprocess, 85.3ms inference, 9.9ms postprocess per image at shape (1, 3, 640, 640)\n",
      "\n",
      "image 1/1 E:\\stable-diffusion\\sd-webui-aki-v4.1\\outputs\\txt2img-images2\\00184-1714834150-dutch angle,sitting, blush,smile,black_hair,brown_hair,footwear,legwear,_1girl,solo,dress,skirt, road,kneeling_,.png: 640x384 1 person, 84.4ms\n",
      "Speed: 1.5ms preprocess, 84.4ms inference, 9.2ms postprocess per image at shape (1, 3, 640, 640)\n",
      "\n"
     ]
    },
    {
     "name": "stdout",
     "output_type": "stream",
     "text": [
      "min_mask_size:124211.0\n",
      "123125.5\n",
      "min_mask_size:91285.0\n",
      "90534.5\n"
     ]
    },
    {
     "name": "stderr",
     "output_type": "stream",
     "text": [
      "image 1/1 E:\\stable-diffusion\\sd-webui-aki-v4.1\\outputs\\txt2img-images2\\00185-1714834151-dutch angle,sitting, blush,smile,black_hair,brown_hair,footwear,legwear,_1girl,solo,dress,skirt, road,kneeling_,.png: 640x384 1 person, 87.1ms\n",
      "Speed: 0.9ms preprocess, 87.1ms inference, 9.3ms postprocess per image at shape (1, 3, 640, 640)\n",
      "\n",
      "image 1/1 E:\\stable-diffusion\\sd-webui-aki-v4.1\\outputs\\txt2img-images2\\00186-1714834152-dutch angle,sitting, blush,smile,black_hair,brown_hair,footwear,legwear,_1girl,solo,dress,skirt, road,kneeling_,.png: 640x384 1 person, 85.3ms\n",
      "Speed: 1.6ms preprocess, 85.3ms inference, 9.7ms postprocess per image at shape (1, 3, 640, 640)\n",
      "\n"
     ]
    },
    {
     "name": "stdout",
     "output_type": "stream",
     "text": [
      "min_mask_size:109630.0\n",
      "108866.5\n",
      "min_mask_size:106146.0\n",
      "105362.0\n"
     ]
    },
    {
     "name": "stderr",
     "output_type": "stream",
     "text": [
      "image 1/1 E:\\stable-diffusion\\sd-webui-aki-v4.1\\outputs\\txt2img-images2\\00187-2223246959-dutch angle,sitting, blush,smile,black_hair,black_hair,footwear,legwear,_1girl,solo,dress,skirt, road,kneeling_,.png: 640x384 1 person, 86.3ms\n",
      "Speed: 2.0ms preprocess, 86.3ms inference, 10.4ms postprocess per image at shape (1, 3, 640, 640)\n",
      "\n",
      "image 1/1 E:\\stable-diffusion\\sd-webui-aki-v4.1\\outputs\\txt2img-images2\\00188-2223246960-dutch angle,sitting, blush,smile,black_hair,black_hair,footwear,legwear,_1girl,solo,dress,skirt, road,kneeling_,.png: 640x384 1 person, 90.0ms\n",
      "Speed: 0.9ms preprocess, 90.0ms inference, 11.5ms postprocess per image at shape (1, 3, 640, 640)\n",
      "\n"
     ]
    },
    {
     "name": "stdout",
     "output_type": "stream",
     "text": [
      "min_mask_size:153347.0\n",
      "146777.0\n",
      "min_mask_size:109444.0\n",
      "108463.0\n"
     ]
    },
    {
     "name": "stderr",
     "output_type": "stream",
     "text": [
      "image 1/1 E:\\stable-diffusion\\sd-webui-aki-v4.1\\outputs\\txt2img-images2\\00189-2223246961-dutch angle,sitting, blush,smile,black_hair,black_hair,footwear,legwear,_1girl,solo,dress,skirt, road,kneeling_,.png: 640x384 1 person, 92.0ms\n",
      "Speed: 2.1ms preprocess, 92.0ms inference, 10.8ms postprocess per image at shape (1, 3, 640, 640)\n",
      "\n",
      "image 1/1 E:\\stable-diffusion\\sd-webui-aki-v4.1\\outputs\\txt2img-images2\\00190-2223246962-dutch angle,sitting, blush,smile,black_hair,black_hair,footwear,legwear,_1girl,solo,dress,skirt, road,kneeling_,.png: 640x384 1 person, 87.2ms\n",
      "Speed: 1.0ms preprocess, 87.2ms inference, 11.4ms postprocess per image at shape (1, 3, 640, 640)\n",
      "\n"
     ]
    },
    {
     "name": "stdout",
     "output_type": "stream",
     "text": [
      "min_mask_size:121887.0\n",
      "133804.0\n",
      "min_mask_size:91335.0\n",
      "90646.0\n"
     ]
    },
    {
     "name": "stderr",
     "output_type": "stream",
     "text": [
      "image 1/1 E:\\stable-diffusion\\sd-webui-aki-v4.1\\outputs\\txt2img-images2\\00191-495772407-dutch angle,sitting, blush,smile,black_hair,white_hair,footwear,legwear,_1girl,solo,dress,skirt, road,squatting,_,.png: 640x384 1 person, 87.1ms\n",
      "Speed: 1.0ms preprocess, 87.1ms inference, 10.2ms postprocess per image at shape (1, 3, 640, 640)\n",
      "\n",
      "image 1/1 E:\\stable-diffusion\\sd-webui-aki-v4.1\\outputs\\txt2img-images2\\00192-495772408-dutch angle,sitting, blush,smile,black_hair,white_hair,footwear,legwear,_1girl,solo,dress,skirt, road,squatting,_,.png: 640x384 1 person, 88.3ms\n",
      "Speed: 1.0ms preprocess, 88.3ms inference, 8.6ms postprocess per image at shape (1, 3, 640, 640)\n",
      "\n"
     ]
    },
    {
     "name": "stdout",
     "output_type": "stream",
     "text": [
      "min_mask_size:103405.0\n",
      "102183.0\n",
      "min_mask_size:99208.0\n",
      "98370.5\n"
     ]
    },
    {
     "name": "stderr",
     "output_type": "stream",
     "text": [
      "image 1/1 E:\\stable-diffusion\\sd-webui-aki-v4.1\\outputs\\txt2img-images2\\00193-495772409-dutch angle,sitting, blush,smile,black_hair,white_hair,footwear,legwear,_1girl,solo,dress,skirt, road,squatting,_,.png: 640x384 1 person, 87.3ms\n",
      "Speed: 1.0ms preprocess, 87.3ms inference, 9.7ms postprocess per image at shape (1, 3, 640, 640)\n",
      "\n",
      "image 1/1 E:\\stable-diffusion\\sd-webui-aki-v4.1\\outputs\\txt2img-images2\\00194-495772410-dutch angle,sitting, blush,smile,black_hair,white_hair,footwear,legwear,_1girl,solo,dress,skirt, road,squatting,_,.png: 640x384 1 person, 87.8ms\n",
      "Speed: 1.0ms preprocess, 87.8ms inference, 6.0ms postprocess per image at shape (1, 3, 640, 640)\n",
      "\n"
     ]
    },
    {
     "name": "stdout",
     "output_type": "stream",
     "text": [
      "min_mask_size:92143.0\n",
      "91281.5\n",
      "min_mask_size:84035.0\n",
      "83101.5\n"
     ]
    },
    {
     "name": "stderr",
     "output_type": "stream",
     "text": [
      "image 1/1 E:\\stable-diffusion\\sd-webui-aki-v4.1\\outputs\\txt2img-images2\\00195-2582873196-dutch angle,sitting, blush,smile,black_hair,red_hair,footwear,legwear,_1girl,solo,dress,skirt, road,squatting,_,.png: 640x384 1 person, 88.6ms\n",
      "Speed: 0.0ms preprocess, 88.6ms inference, 9.1ms postprocess per image at shape (1, 3, 640, 640)\n",
      "\n",
      "image 1/1 E:\\stable-diffusion\\sd-webui-aki-v4.1\\outputs\\txt2img-images2\\00196-2582873197-dutch angle,sitting, blush,smile,black_hair,red_hair,footwear,legwear,_1girl,solo,dress,skirt, road,squatting,_,.png: 640x384 1 person, 88.0ms\n",
      "Speed: 1.0ms preprocess, 88.0ms inference, 9.3ms postprocess per image at shape (1, 3, 640, 640)\n",
      "\n"
     ]
    },
    {
     "name": "stdout",
     "output_type": "stream",
     "text": [
      "min_mask_size:103040.0\n",
      "102108.0\n",
      "min_mask_size:106628.0\n",
      "105211.5\n"
     ]
    },
    {
     "name": "stderr",
     "output_type": "stream",
     "text": [
      "image 1/1 E:\\stable-diffusion\\sd-webui-aki-v4.1\\outputs\\txt2img-images2\\00197-2582873198-dutch angle,sitting, blush,smile,black_hair,red_hair,footwear,legwear,_1girl,solo,dress,skirt, road,squatting,_,.png: 640x384 1 person, 85.2ms\n",
      "Speed: 0.0ms preprocess, 85.2ms inference, 9.3ms postprocess per image at shape (1, 3, 640, 640)\n",
      "\n",
      "image 1/1 E:\\stable-diffusion\\sd-webui-aki-v4.1\\outputs\\txt2img-images2\\00198-2582873199-dutch angle,sitting, blush,smile,black_hair,red_hair,footwear,legwear,_1girl,solo,dress,skirt, road,squatting,_,.png: 640x384 1 person, 87.1ms\n",
      "Speed: 2.0ms preprocess, 87.1ms inference, 10.7ms postprocess per image at shape (1, 3, 640, 640)\n",
      "\n"
     ]
    },
    {
     "name": "stdout",
     "output_type": "stream",
     "text": [
      "min_mask_size:79887.0\n",
      "78954.0\n",
      "min_mask_size:82081.0\n",
      "81425.0\n"
     ]
    },
    {
     "name": "stderr",
     "output_type": "stream",
     "text": [
      "image 1/1 E:\\stable-diffusion\\sd-webui-aki-v4.1\\outputs\\txt2img-images2\\00199-1914066485-dutch angle,sitting, blush,smile,black_hair,blue_hair,footwear,legwear,_1girl,solo,dress,skirt, road,squatting,_,.png: 640x384 1 person, 87.3ms\n",
      "Speed: 0.0ms preprocess, 87.3ms inference, 10.2ms postprocess per image at shape (1, 3, 640, 640)\n",
      "\n",
      "image 1/1 E:\\stable-diffusion\\sd-webui-aki-v4.1\\outputs\\txt2img-images2\\00200-1914066486-dutch angle,sitting, blush,smile,black_hair,blue_hair,footwear,legwear,_1girl,solo,dress,skirt, road,squatting,_,.png: 640x384 1 person, 85.5ms\n",
      "Speed: 0.0ms preprocess, 85.5ms inference, 8.7ms postprocess per image at shape (1, 3, 640, 640)\n",
      "\n"
     ]
    },
    {
     "name": "stdout",
     "output_type": "stream",
     "text": [
      "min_mask_size:94890.0\n",
      "94182.5\n",
      "min_mask_size:98298.0\n",
      "97503.5\n"
     ]
    },
    {
     "name": "stderr",
     "output_type": "stream",
     "text": [
      "image 1/1 E:\\stable-diffusion\\sd-webui-aki-v4.1\\outputs\\txt2img-images2\\00201-1914066487-dutch angle,sitting, blush,smile,black_hair,blue_hair,footwear,legwear,_1girl,solo,dress,skirt, road,squatting,_,.png: 640x384 1 person, 91.0ms\n",
      "Speed: 1.2ms preprocess, 91.0ms inference, 9.1ms postprocess per image at shape (1, 3, 640, 640)\n",
      "\n",
      "image 1/1 E:\\stable-diffusion\\sd-webui-aki-v4.1\\outputs\\txt2img-images2\\00202-1914066488-dutch angle,sitting, blush,smile,black_hair,blue_hair,footwear,legwear,_1girl,solo,dress,skirt, road,squatting,_,.png: 640x384 1 person, 88.9ms\n",
      "Speed: 1.0ms preprocess, 88.9ms inference, 9.3ms postprocess per image at shape (1, 3, 640, 640)\n",
      "\n"
     ]
    },
    {
     "name": "stdout",
     "output_type": "stream",
     "text": [
      "min_mask_size:67161.0\n",
      "66707.0\n",
      "min_mask_size:99055.0\n",
      "98140.0\n"
     ]
    },
    {
     "name": "stderr",
     "output_type": "stream",
     "text": [
      "image 1/1 E:\\stable-diffusion\\sd-webui-aki-v4.1\\outputs\\txt2img-images2\\00203-850853146-dutch angle,sitting, blush,smile,black_hair,green_hair,footwear,legwear,_1girl,solo,dress,skirt, road,squatting,_,.png: 640x384 1 person, 86.8ms\n",
      "Speed: 1.0ms preprocess, 86.8ms inference, 9.1ms postprocess per image at shape (1, 3, 640, 640)\n",
      "\n",
      "image 1/1 E:\\stable-diffusion\\sd-webui-aki-v4.1\\outputs\\txt2img-images2\\00204-850853147-dutch angle,sitting, blush,smile,black_hair,green_hair,footwear,legwear,_1girl,solo,dress,skirt, road,squatting,_,.png: 640x384 1 person, 88.6ms\n",
      "Speed: 1.0ms preprocess, 88.6ms inference, 10.7ms postprocess per image at shape (1, 3, 640, 640)\n",
      "\n"
     ]
    },
    {
     "name": "stdout",
     "output_type": "stream",
     "text": [
      "min_mask_size:107016.0\n",
      "106160.0\n",
      "min_mask_size:97858.0\n",
      "97071.5\n"
     ]
    },
    {
     "name": "stderr",
     "output_type": "stream",
     "text": [
      "image 1/1 E:\\stable-diffusion\\sd-webui-aki-v4.1\\outputs\\txt2img-images2\\00205-850853148-dutch angle,sitting, blush,smile,black_hair,green_hair,footwear,legwear,_1girl,solo,dress,skirt, road,squatting,_,.png: 640x384 1 person, 90.1ms\n",
      "Speed: 1.1ms preprocess, 90.1ms inference, 7.9ms postprocess per image at shape (1, 3, 640, 640)\n",
      "\n",
      "image 1/1 E:\\stable-diffusion\\sd-webui-aki-v4.1\\outputs\\txt2img-images2\\00206-850853149-dutch angle,sitting, blush,smile,black_hair,green_hair,footwear,legwear,_1girl,solo,dress,skirt, road,squatting,_,.png: 640x384 1 person, 92.7ms\n",
      "Speed: 0.0ms preprocess, 92.7ms inference, 10.5ms postprocess per image at shape (1, 3, 640, 640)\n",
      "\n"
     ]
    },
    {
     "name": "stdout",
     "output_type": "stream",
     "text": [
      "min_mask_size:81850.0\n",
      "81165.5\n",
      "min_mask_size:86168.0\n",
      "85337.0\n"
     ]
    },
    {
     "name": "stderr",
     "output_type": "stream",
     "text": [
      "image 1/1 E:\\stable-diffusion\\sd-webui-aki-v4.1\\outputs\\txt2img-images2\\00207-3398982364-dutch angle,sitting, blush,smile,black_hair,brown_hair,footwear,legwear,_1girl,solo,dress,skirt, road,squatting,_,.png: 640x384 1 person, 84.7ms\n",
      "Speed: 2.0ms preprocess, 84.7ms inference, 7.2ms postprocess per image at shape (1, 3, 640, 640)\n",
      "\n",
      "image 1/1 E:\\stable-diffusion\\sd-webui-aki-v4.1\\outputs\\txt2img-images2\\00208-3398982365-dutch angle,sitting, blush,smile,black_hair,brown_hair,footwear,legwear,_1girl,solo,dress,skirt, road,squatting,_,.png: 640x384 1 person, 87.2ms\n",
      "Speed: 1.0ms preprocess, 87.2ms inference, 9.6ms postprocess per image at shape (1, 3, 640, 640)\n",
      "\n"
     ]
    },
    {
     "name": "stdout",
     "output_type": "stream",
     "text": [
      "min_mask_size:101469.0\n",
      "100633.5\n",
      "min_mask_size:100032.0\n",
      "99265.0\n"
     ]
    },
    {
     "name": "stderr",
     "output_type": "stream",
     "text": [
      "image 1/1 E:\\stable-diffusion\\sd-webui-aki-v4.1\\outputs\\txt2img-images2\\00209-3398982366-dutch angle,sitting, blush,smile,black_hair,brown_hair,footwear,legwear,_1girl,solo,dress,skirt, road,squatting,_,.png: 640x384 1 person, 87.3ms\n",
      "Speed: 1.0ms preprocess, 87.3ms inference, 10.1ms postprocess per image at shape (1, 3, 640, 640)\n",
      "\n",
      "image 1/1 E:\\stable-diffusion\\sd-webui-aki-v4.1\\outputs\\txt2img-images2\\00210-3398982367-dutch angle,sitting, blush,smile,black_hair,brown_hair,footwear,legwear,_1girl,solo,dress,skirt, road,squatting,_,.png: 640x384 1 person, 88.3ms\n",
      "Speed: 1.0ms preprocess, 88.3ms inference, 9.6ms postprocess per image at shape (1, 3, 640, 640)\n",
      "\n"
     ]
    },
    {
     "name": "stdout",
     "output_type": "stream",
     "text": [
      "min_mask_size:94003.0\n",
      "92779.0\n",
      "min_mask_size:90105.0\n",
      "88428.0\n"
     ]
    },
    {
     "name": "stderr",
     "output_type": "stream",
     "text": [
      "image 1/1 E:\\stable-diffusion\\sd-webui-aki-v4.1\\outputs\\txt2img-images2\\00211-2322024456-dutch angle,sitting, blush,smile,black_hair,black_hair,footwear,legwear,_1girl,solo,dress,skirt, road,squatting,_,.png: 640x384 1 person, 85.3ms\n",
      "Speed: 1.0ms preprocess, 85.3ms inference, 9.2ms postprocess per image at shape (1, 3, 640, 640)\n",
      "\n",
      "image 1/1 E:\\stable-diffusion\\sd-webui-aki-v4.1\\outputs\\txt2img-images2\\00212-2322024457-dutch angle,sitting, blush,smile,black_hair,black_hair,footwear,legwear,_1girl,solo,dress,skirt, road,squatting,_,.png: 640x384 1 person, 90.6ms\n",
      "Speed: 1.0ms preprocess, 90.6ms inference, 8.0ms postprocess per image at shape (1, 3, 640, 640)\n",
      "\n"
     ]
    },
    {
     "name": "stdout",
     "output_type": "stream",
     "text": [
      "min_mask_size:112236.0\n",
      "111111.0\n",
      "min_mask_size:96194.0\n",
      "95500.0\n"
     ]
    },
    {
     "name": "stderr",
     "output_type": "stream",
     "text": [
      "image 1/1 E:\\stable-diffusion\\sd-webui-aki-v4.1\\outputs\\txt2img-images2\\00213-2322024458-dutch angle,sitting, blush,smile,black_hair,black_hair,footwear,legwear,_1girl,solo,dress,skirt, road,squatting,_,.png: 640x384 1 person, 87.8ms\n",
      "Speed: 0.6ms preprocess, 87.8ms inference, 9.3ms postprocess per image at shape (1, 3, 640, 640)\n",
      "\n",
      "image 1/1 E:\\stable-diffusion\\sd-webui-aki-v4.1\\outputs\\txt2img-images2\\00214-2322024459-dutch angle,sitting, blush,smile,black_hair,black_hair,footwear,legwear,_1girl,solo,dress,skirt, road,squatting,_,.png: 640x384 1 person, 85.9ms\n",
      "Speed: 1.0ms preprocess, 85.9ms inference, 8.1ms postprocess per image at shape (1, 3, 640, 640)\n"
     ]
    },
    {
     "name": "stdout",
     "output_type": "stream",
     "text": [
      "min_mask_size:90256.0\n",
      "89530.5\n",
      "min_mask_size:87552.0\n",
      "86532.0\n"
     ]
    }
   ],
   "source": [
    "\n",
    "for pic in pics: \n",
    "    mask, bboxes = yolo_mask_generate(yolo_model, pic)\n",
    "    orig_pic = cv2.imread(pic)\n",
    "   # sam_masks = segany_mask_generate(sam_model_generator,pic)\n",
    "   # voted_mask = vote_mask_generate(sam_masks,mask,threshold=0.8)\n",
    "   # voted_mask = voted_mask.astype(orig_pic.dtype) * 255\n",
    "   # voted_mask = np.stack([voted_mask,voted_mask,voted_mask],axis=-1)\n",
    "    mask = mask.astype(orig_pic.dtype) * 255\n",
    "    \n",
    "\n",
    "    mask_size = np.sum(mask)/255\n",
    "    yolo_str, mask_2, _= mask2yolo(mask, [mask_size],show = True)\n",
    "    mask_2 = cv2.resize(mask_2,(orig_pic.shape[1],orig_pic.shape[0])).astype(orig_pic.dtype)\n",
    "    mask_2 = np.stack([mask_2,mask_2,mask_2],axis=-1)\n",
    "\n",
    "    cv2.imwrite(save_path + \"\\\\\" + pic.split(\"\\\\\")[-1],cv2.addWeighted(orig_pic,0.3,mask_2,0.7,0))\n",
    "    with open(save_path + \"\\\\\" + pic.split(\"\\\\\")[-1].split(\".\")[0] + \".txt\",\"w\") as f:\n",
    "        f.write(yolo_str)"
   ]
  },
  {
   "cell_type": "code",
   "execution_count": 38,
   "metadata": {},
   "outputs": [
    {
     "name": "stderr",
     "output_type": "stream",
     "text": [
      "100%|██████████| 1170/1170 [00:02<00:00, 545.64it/s]\n"
     ]
    },
    {
     "ename": "",
     "evalue": "",
     "output_type": "error",
     "traceback": [
      "\u001b[1;31mThe Kernel crashed while executing code in the the current cell or a previous cell. Please review the code in the cell(s) to identify a possible cause of the failure. Click <a href='https://aka.ms/vscodeJupyterKernelCrash'>here</a> for more info. View Jupyter <a href='command:jupyter.viewOutput'>log</a> for further details."
     ]
    }
   ],
   "source": [
    "#根据保留的txt文件确定需要复制哪些图片\n",
    "save_path_2 = r\"E:\\stable-diffusion\\sd-webui-aki-v4.1\\outputs\\test2\"\n",
    "#只要txt文件\n",
    "good_pics = os.listdir(save_path)\n",
    "for pic in tqdm(good_pics):\n",
    "    if pic.endswith(\".txt\"):\n",
    "        pic_name = pic.split(\".\")[0] + \".png\"\n",
    "        shutil.copy(path + \"\\\\\" + pic_name,save_path_2 + \"\\\\\" + pic_name)\n",
    "        shutil.copy(save_path + \"\\\\\" + pic,save_path_2 + \"\\\\\" + pic)"
   ]
  },
  {
   "cell_type": "code",
   "execution_count": 6,
   "metadata": {},
   "outputs": [
    {
     "name": "stderr",
     "output_type": "stream",
     "text": [
      "  0%|          | 0/945 [00:00<?, ?it/s]"
     ]
    },
    {
     "name": "stdout",
     "output_type": "stream",
     "text": [
      "[  0  31 255]\n"
     ]
    },
    {
     "name": "stderr",
     "output_type": "stream",
     "text": [
      "\n"
     ]
    }
   ],
   "source": [
    "path = r\"D:\\pyprojs\\Anime-seg-yolov8\\datasets\\annotated_images\\annotations\"\n",
    "output = r\"D:\\pyprojs\\Anime-seg-yolov8\\datasets\\Ani-seg_val\"\n",
    "masks = os.listdir(path)\n",
    "for mask in tqdm(masks):\n",
    "    mask_ = mask\n",
    "    mask = cv2.imread(path + \"\\\\\" + mask).astype(np.uint8)\n",
    "    #空白处是[255 255 31] mask处是[255 255 255]\n",
    "    #改成[0 0 0] [255 255 255]\n",
    "    mask[mask == 31] = 255\n",
    "    mask[mask != 255] = 0\n",
    "    print(np.unique(mask))\n",
    "    break\n",
    "    #mask = np.stack([mask,mask,mask],axis=-1)\n",
    "    #print(mask)\n",
    "    #plt.imshow(mask)\n",
    "    #plt.show()\n",
    "    print(mask.dtype)\n",
    "    yolo_str, mask_2, _= mask2yolo(mask, [1],show = True)\n",
    "    mask_2 = np.stack([mask_2,mask_2,mask_2],axis=-1)\n",
    "    with open(output+\"\\\\\"+mask_.split(\".\")[0]+\".txt\",\"w\") as f:\n",
    "        f.write(yolo_str)"
   ]
  },
  {
   "cell_type": "code",
   "execution_count": 3,
   "metadata": {},
   "outputs": [
    {
     "name": "stdout",
     "output_type": "stream",
     "text": [
      "{'task': 'segment', 'mode': 'train', 'model': './train/train17/weights/last.pt', 'data': 'dataset.yaml', 'epochs': 200, 'patience': 50, 'batch': -1, 'imgsz': 640, 'save': True, 'save_period': 10, 'cache': True, 'device': None, 'workers': 8, 'project': './', 'name': None, 'exist_ok': False, 'pretrained': False, 'optimizer': 'auto', 'verbose': True, 'seed': 0, 'deterministic': True, 'single_cls': False, 'rect': False, 'cos_lr': False, 'close_mosaic': 0, 'resume': False, 'amp': True, 'fraction': 1.0, 'profile': False, 'overlap_mask': True, 'mask_ratio': 4, 'dropout': 0.0, 'val': True, 'split': 'val', 'save_json': False, 'save_hybrid': False, 'conf': None, 'iou': 0.7, 'max_det': 300, 'half': False, 'dnn': False, 'plots': True, 'source': None, 'show': False, 'save_txt': False, 'save_conf': False, 'save_crop': False, 'show_labels': True, 'show_conf': True, 'vid_stride': 1, 'line_width': None, 'visualize': False, 'augment': False, 'agnostic_nms': False, 'classes': None, 'retina_masks': False, 'boxes': True, 'format': 'torchscript', 'keras': False, 'optimize': False, 'int8': False, 'dynamic': False, 'simplify': False, 'opset': None, 'workspace': 4, 'nms': False, 'lr0': 0.01, 'lrf': 0.01, 'momentum': 0.937, 'weight_decay': 0.0005, 'warmup_epochs': 3.0, 'warmup_momentum': 0.8, 'warmup_bias_lr': 0.0, 'box': 7.5, 'cls': 0.5, 'dfl': 1.5, 'pose': 12.0, 'kobj': 1.0, 'label_smoothing': 0.0, 'nbs': 64, 'hsv_h': 0.015, 'hsv_s': 0.7, 'hsv_v': 0.4, 'degrees': 0.0, 'translate': 0.1, 'scale': 0.5, 'shear': 0.0, 'perspective': 0.0, 'flipud': 0.0, 'fliplr': 0.5, 'mosaic': 1.0, 'mixup': 0.0, 'copy_paste': 0.0, 'cfg': None, 'v5loader': False, 'tracker': 'botsort.yaml', 'save_dir': 'train2'}\n"
     ]
    }
   ],
   "source": [
    "#删除训练参数\n",
    "import torch\n",
    "#dict_keys(['epoch', 'best_fitness', 'model', 'ema', 'updates', 'optimizer', 'train_args', 'date', 'version'])\n",
    "# epoch=-1 best_f ema updates optimizer = None\n",
    "model = torch.load(\"./yolo/ver3__.pt\")\n",
    "print(model[\"train_args\"])\n",
    "model[\"train_args\"][\"mosaic\"] = 0\n",
    "{'task': 'segment', 'mode': 'train', 'model': './train/train17/weights/last.pt', 'data': 'dataset.yaml', 'epochs': 200, 'patience': 50, 'batch': -1, 'imgsz': 640, 'save': True, 'save_period': 10, 'cache': True, 'device': None, 'workers': 8, 'project': './', 'name': None, 'exist_ok': False, 'pretrained': False, 'optimizer': 'auto', 'verbose': True, 'seed': 0, 'deterministic': True, 'single_cls': False, 'rect': False, 'cos_lr': False, 'close_mosaic': 0, 'resume': False, 'amp': True, 'fraction': 1.0, 'profile': False, 'overlap_mask': True, 'mask_ratio': 4, 'dropout': 0.0, 'val': True, 'split': 'val', 'save_json': False, 'save_hybrid': False, 'conf': None, 'iou': 0.7, 'max_det': 300, 'half': False, 'dnn': False, 'plots': True, 'source': None, 'show': False, 'save_txt': False, 'save_conf': False, 'save_crop': False, 'show_labels': True, 'show_conf': True, 'vid_stride': 1, 'line_width': None, 'visualize': False, 'augment': False, 'agnostic_nms': False, 'classes': None, 'retina_masks': False, 'boxes': True, 'format': 'torchscript', 'keras': False, 'optimize': False, 'int8': False, 'dynamic': False, 'simplify': False, 'opset': None, 'workspace': 4, 'nms': False, 'lr0': 0.01, 'lrf': 0.01, 'momentum': 0.937, 'weight_decay': 0.0005, 'warmup_epochs': 3.0, 'warmup_momentum': 0.8, 'warmup_bias_lr': 0.0, 'box': 7.5, 'cls': 0.5, 'dfl': 1.5, 'pose': 12.0, 'kobj': 1.0, 'label_smoothing': 0.0, 'nbs': 64, 'hsv_h': 0.015, 'hsv_s': 0.7, 'hsv_v': 0.4, 'degrees': 0.0, 'translate': 0.1, 'scale': 0.5, 'shear': 0.0, 'perspective': 0.0, 'flipud': 0.0, 'fliplr': 0.5, 'mosaic': 1.0, 'mixup': 0.0, 'copy_paste': 0.0, 'cfg': None, 'v5loader': False, 'tracker': 'botsort.yaml', 'save_dir': 'train2'}"
   ]
  }
 ],
 "metadata": {
  "kernelspec": {
   "display_name": "CVproj",
   "language": "python",
   "name": "python3"
  },
  "language_info": {
   "codemirror_mode": {
    "name": "ipython",
    "version": 3
   },
   "file_extension": ".py",
   "mimetype": "text/x-python",
   "name": "python",
   "nbconvert_exporter": "python",
   "pygments_lexer": "ipython3",
   "version": "3.8.0"
  },
  "orig_nbformat": 4
 },
 "nbformat": 4,
 "nbformat_minor": 2
}
