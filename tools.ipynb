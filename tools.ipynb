{
 "cells": [
  {
   "cell_type": "code",
   "execution_count": 2,
   "metadata": {},
   "outputs": [],
   "source": [
    "#自动重载\n",
    "%load_ext autoreload\n",
    "import os\n",
    "import numpy as np\n",
    "import PIL.Image as Image\n",
    "import matplotlib.pyplot as plt\n",
    "import cv2\n",
    "from my_pycoco import mask2yolo,make_pic\n",
    "from tqdm import tqdm\n",
    "mainpath = \"./datasets/\"\n",
    "bg_path = \"bg/\"\n",
    "fg_path = \"fg_2/\"\n",
    "masks_path = \"masks/\"\n",
    "fgs = os.listdir(mainpath+fg_path)\n",
    "bgs = os.listdir(mainpath+bg_path)\n",
    "masks = os.listdir(mainpath+masks_path)"
   ]
  },
  {
   "cell_type": "code",
   "execution_count": null,
   "metadata": {},
   "outputs": [],
   "source": [
    "test_fg = Image.open(mainpath+fg_path+fgs[1])\n",
    "test_bg = Image.open(mainpath+bg_path+bgs[2])\n",
    "test_mask = Image.open(mainpath+masks_path+masks[1])\n",
    "mixed_pic,mixed_mask = make_pic(test_fg,test_bg,test_mask)"
   ]
  },
  {
   "cell_type": "code",
   "execution_count": null,
   "metadata": {},
   "outputs": [],
   "source": [
    "# 打印出来看看\n",
    "plt.imshow(mixed_pic)\n",
    "plt.show()\n",
    "mixed_mask = np.array(mixed_mask)\n",
    "plt.imshow(mixed_mask)\n",
    "plt.show()"
   ]
  },
  {
   "cell_type": "code",
   "execution_count": null,
   "metadata": {},
   "outputs": [],
   "source": [
    "yolo = mask2yolo(mixed_mask,show=False)\n"
   ]
  },
  {
   "cell_type": "code",
   "execution_count": 3,
   "metadata": {},
   "outputs": [
    {
     "name": "stderr",
     "output_type": "stream",
     "text": [
      "Processing images:   1%|          | 103/11789 [00:20<38:03,  5.12it/s] \n"
     ]
    },
    {
     "ename": "KeyboardInterrupt",
     "evalue": "",
     "output_type": "error",
     "traceback": [
      "\u001b[1;31m---------------------------------------------------------------------------\u001b[0m",
      "\u001b[1;31mKeyboardInterrupt\u001b[0m                         Traceback (most recent call last)",
      "Cell \u001b[1;32mIn[3], line 12\u001b[0m\n\u001b[0;32m     10\u001b[0m bg_pic \u001b[39m=\u001b[39m Image\u001b[39m.\u001b[39mopen(mainpath\u001b[39m+\u001b[39mbg_path\u001b[39m+\u001b[39mbg)\n\u001b[0;32m     11\u001b[0m mask_pic \u001b[39m=\u001b[39m Image\u001b[39m.\u001b[39mopen(mainpath\u001b[39m+\u001b[39mmasks_path\u001b[39m+\u001b[39mmask)\n\u001b[1;32m---> 12\u001b[0m mixed_pic, mixed_mask \u001b[39m=\u001b[39m make_pic(fg_pic, bg_pic, mask_pic)\n\u001b[0;32m     13\u001b[0m mixed_pic\u001b[39m.\u001b[39msave(mainpath\u001b[39m+\u001b[39m\u001b[39m\"\u001b[39m\u001b[39mmixed_pic/\u001b[39m\u001b[39m\"\u001b[39m\u001b[39m+\u001b[39mfg[:\u001b[39m-\u001b[39m\u001b[39m4\u001b[39m]\u001b[39m+\u001b[39m\u001b[39m\"\u001b[39m\u001b[39m_\u001b[39m\u001b[39m\"\u001b[39m\u001b[39m+\u001b[39mbg[:\u001b[39m-\u001b[39m\u001b[39m4\u001b[39m]\u001b[39m+\u001b[39m\u001b[39m\"\u001b[39m\u001b[39m.jpg\u001b[39m\u001b[39m\"\u001b[39m)\n\u001b[0;32m     14\u001b[0m mixed_mask\u001b[39m.\u001b[39msave(mainpath\u001b[39m+\u001b[39m\u001b[39m\"\u001b[39m\u001b[39mmixed_mask/\u001b[39m\u001b[39m\"\u001b[39m\u001b[39m+\u001b[39mfg[:\u001b[39m-\u001b[39m\u001b[39m4\u001b[39m]\u001b[39m+\u001b[39m\u001b[39m\"\u001b[39m\u001b[39m_\u001b[39m\u001b[39m\"\u001b[39m\u001b[39m+\u001b[39mbg[:\u001b[39m-\u001b[39m\u001b[39m4\u001b[39m]\u001b[39m+\u001b[39m\u001b[39m\"\u001b[39m\u001b[39m.jpg\u001b[39m\u001b[39m\"\u001b[39m)\n",
      "File \u001b[1;32md:\\pyprojs\\Anime-seg-yolov8\\my_pycoco.py:62\u001b[0m, in \u001b[0;36mmake_pic\u001b[1;34m(fg, bg, mask)\u001b[0m\n\u001b[0;32m     60\u001b[0m scale \u001b[39m=\u001b[39m \u001b[39mmin\u001b[39m(bg\u001b[39m.\u001b[39msize[\u001b[39m0\u001b[39m]\u001b[39m/\u001b[39mfg\u001b[39m.\u001b[39msize[\u001b[39m0\u001b[39m],bg\u001b[39m.\u001b[39msize[\u001b[39m1\u001b[39m]\u001b[39m/\u001b[39mfg\u001b[39m.\u001b[39msize[\u001b[39m1\u001b[39m])\u001b[39m/\u001b[39m\u001b[39m1.5\u001b[39m\n\u001b[0;32m     61\u001b[0m \u001b[39m# resize\u001b[39;00m\n\u001b[1;32m---> 62\u001b[0m fg \u001b[39m=\u001b[39m fg\u001b[39m.\u001b[39;49mresize((\u001b[39mint\u001b[39;49m(fg\u001b[39m.\u001b[39;49msize[\u001b[39m0\u001b[39;49m]\u001b[39m*\u001b[39;49mscale),\u001b[39mint\u001b[39;49m(fg\u001b[39m.\u001b[39;49msize[\u001b[39m1\u001b[39;49m]\u001b[39m*\u001b[39;49mscale)))\n\u001b[0;32m     63\u001b[0m \u001b[39m# mask也resize\u001b[39;00m\n\u001b[0;32m     64\u001b[0m mask \u001b[39m=\u001b[39m mask\u001b[39m.\u001b[39mresize((\u001b[39mint\u001b[39m(mask\u001b[39m.\u001b[39msize[\u001b[39m0\u001b[39m]\u001b[39m*\u001b[39mscale),\u001b[39mint\u001b[39m(mask\u001b[39m.\u001b[39msize[\u001b[39m1\u001b[39m]\u001b[39m*\u001b[39mscale)))\n",
      "File \u001b[1;32md:\\Anaconda\\envs\\CVproj\\lib\\site-packages\\PIL\\Image.py:2170\u001b[0m, in \u001b[0;36mImage.resize\u001b[1;34m(self, size, resample, box, reducing_gap)\u001b[0m\n\u001b[0;32m   2168\u001b[0m \u001b[39mif\u001b[39;00m \u001b[39mself\u001b[39m\u001b[39m.\u001b[39mmode \u001b[39min\u001b[39;00m [\u001b[39m\"\u001b[39m\u001b[39mLA\u001b[39m\u001b[39m\"\u001b[39m, \u001b[39m\"\u001b[39m\u001b[39mRGBA\u001b[39m\u001b[39m\"\u001b[39m] \u001b[39mand\u001b[39;00m resample \u001b[39m!=\u001b[39m Resampling\u001b[39m.\u001b[39mNEAREST:\n\u001b[0;32m   2169\u001b[0m     im \u001b[39m=\u001b[39m \u001b[39mself\u001b[39m\u001b[39m.\u001b[39mconvert({\u001b[39m\"\u001b[39m\u001b[39mLA\u001b[39m\u001b[39m\"\u001b[39m: \u001b[39m\"\u001b[39m\u001b[39mLa\u001b[39m\u001b[39m\"\u001b[39m, \u001b[39m\"\u001b[39m\u001b[39mRGBA\u001b[39m\u001b[39m\"\u001b[39m: \u001b[39m\"\u001b[39m\u001b[39mRGBa\u001b[39m\u001b[39m\"\u001b[39m}[\u001b[39mself\u001b[39m\u001b[39m.\u001b[39mmode])\n\u001b[1;32m-> 2170\u001b[0m     im \u001b[39m=\u001b[39m im\u001b[39m.\u001b[39;49mresize(size, resample, box)\n\u001b[0;32m   2171\u001b[0m     \u001b[39mreturn\u001b[39;00m im\u001b[39m.\u001b[39mconvert(\u001b[39mself\u001b[39m\u001b[39m.\u001b[39mmode)\n\u001b[0;32m   2173\u001b[0m \u001b[39mself\u001b[39m\u001b[39m.\u001b[39mload()\n",
      "File \u001b[1;32md:\\Anaconda\\envs\\CVproj\\lib\\site-packages\\PIL\\Image.py:2192\u001b[0m, in \u001b[0;36mImage.resize\u001b[1;34m(self, size, resample, box, reducing_gap)\u001b[0m\n\u001b[0;32m   2184\u001b[0m             \u001b[39mself\u001b[39m \u001b[39m=\u001b[39m Image\u001b[39m.\u001b[39mreduce(\u001b[39mself\u001b[39m, factor, box\u001b[39m=\u001b[39mreduce_box)\n\u001b[0;32m   2185\u001b[0m         box \u001b[39m=\u001b[39m (\n\u001b[0;32m   2186\u001b[0m             (box[\u001b[39m0\u001b[39m] \u001b[39m-\u001b[39m reduce_box[\u001b[39m0\u001b[39m]) \u001b[39m/\u001b[39m factor_x,\n\u001b[0;32m   2187\u001b[0m             (box[\u001b[39m1\u001b[39m] \u001b[39m-\u001b[39m reduce_box[\u001b[39m1\u001b[39m]) \u001b[39m/\u001b[39m factor_y,\n\u001b[0;32m   2188\u001b[0m             (box[\u001b[39m2\u001b[39m] \u001b[39m-\u001b[39m reduce_box[\u001b[39m0\u001b[39m]) \u001b[39m/\u001b[39m factor_x,\n\u001b[0;32m   2189\u001b[0m             (box[\u001b[39m3\u001b[39m] \u001b[39m-\u001b[39m reduce_box[\u001b[39m1\u001b[39m]) \u001b[39m/\u001b[39m factor_y,\n\u001b[0;32m   2190\u001b[0m         )\n\u001b[1;32m-> 2192\u001b[0m \u001b[39mreturn\u001b[39;00m \u001b[39mself\u001b[39m\u001b[39m.\u001b[39m_new(\u001b[39mself\u001b[39;49m\u001b[39m.\u001b[39;49mim\u001b[39m.\u001b[39;49mresize(size, resample, box))\n",
      "\u001b[1;31mKeyboardInterrupt\u001b[0m: "
     ]
    }
   ],
   "source": [
    "# 为每个fg都生成一个yolo的\n",
    "# 生成的yolo格式的mask保存在./datasets/masks_yolo/下\n",
    "# 生成的叠加后的图片保存在./datasets/mixed_pic/下\n",
    "# 改成tqdm的形式，可以看到进度条\n",
    "if not os.path.exists(mainpath+\"masks_yolo/\"):\n",
    "    os.mkdir(mainpath+\"masks_yolo/\")\n",
    "if not os.path.exists(mainpath+\"mixed_pic/\"):\n",
    "    os.mkdir(mainpath+\"mixed_pic/\")\n",
    "if not  os.path.exists(mainpath+\"mixed_mask/\"):\n",
    "    os.mkdir(mainpath+\"mixed_mask/\")\n",
    "for n in tqdm(range(len(fgs)), desc='Processing images'):\n",
    "    fg = fgs[n]\n",
    "    bg = bgs[np.random.randint(0,len(bgs))]\n",
    "    mask = masks[n]\n",
    "    fg_pic = Image.open(mainpath+fg_path+fg)\n",
    "    bg_pic = Image.open(mainpath+bg_path+bg)\n",
    "    mask_pic = Image.open(mainpath+masks_path+mask)\n",
    "    mixed_pic, mixed_mask = make_pic(fg_pic, bg_pic, mask_pic)\n",
    "    mixed_pic.save(mainpath+\"mixed_pic/\"+fg[:-4]+\"_\"+bg[:-4]+\".jpg\")\n",
    "    mixed_mask.save(mainpath+\"mixed_mask/\"+fg[:-4]+\"_\"+bg[:-4]+\".jpg\")\n",
    "    yolo = mask2yolo(mixed_mask, show=False)\n",
    "    with open(mainpath+\"masks_yolo/\"+fg[:-4]+\"_\"+bg[:-4]+\".txt\",\"w\") as f:\n",
    "        f.write(yolo[0])\n",
    "    "
   ]
  }
 ],
 "metadata": {
  "kernelspec": {
   "display_name": "CVproj",
   "language": "python",
   "name": "python3"
  },
  "language_info": {
   "codemirror_mode": {
    "name": "ipython",
    "version": 3
   },
   "file_extension": ".py",
   "mimetype": "text/x-python",
   "name": "python",
   "nbconvert_exporter": "python",
   "pygments_lexer": "ipython3",
   "version": "3.8.0"
  },
  "orig_nbformat": 4
 },
 "nbformat": 4,
 "nbformat_minor": 2
}
